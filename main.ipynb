{
 "cells": [
  {
   "cell_type": "markdown",
   "metadata": {},
   "source": [
    "# Visualization\n",
    "\n",
    "Probability density function is `f(x, y) = c * x * y` where 'c' is a constant, 'x' and 'y' are random variables from set Omega, where `Omega = { (x, y) | 1 < x < y < 2 }`.\n"
   ]
  },
  {
   "cell_type": "code",
   "execution_count": 1,
   "metadata": {},
   "outputs": [
    {
     "data": {
      "image/png": "[encoded data removed]",
      "text/plain": [
       "<Figure size 432x288 with 1 Axes>"
      ]
     },
     "metadata": {
      "needs_background": "light"
     },
     "output_type": "display_data"
    }
   ],
   "source": [
    "import numpy as np\n",
    "from matplotlib import pyplot as plt\n",
    "\n",
    "# We get three equations:\n",
    "# 1)    x > 1\n",
    "# 2)    x < y\n",
    "# 3)    y < 2\n",
    "\n",
    "# From this we can derive that x will go from 1 to y and y will go from x to 2\n",
    "# Therefore x will go from 1 to 2 and y will go from 1 to 2 as well\n",
    "# To plot this we simply use the three functions with = instead of < or > and intersect them\n",
    "\n",
    "x_range = np.linspace(1, 2, 1000)  # range of random variable X\n",
    "sampling_range = np.linspace(0, 3, 1000)  # range of lines for visualization\n",
    "f1 = sampling_range\n",
    "# f2 will simply be plotted as a line because it is not a y = f(x) function\n",
    "f3 = 2 * np.ones_like(sampling_range)\n",
    "\n",
    "plt.plot(sampling_range, f1, label='x = y')\n",
    "plt.plot((1, 1), (0, 3), label='x = 1')\n",
    "plt.plot(sampling_range, f3, label='y = 2')\n",
    "\n",
    "plt.fill_between(x_range, x_range, 2 * np.ones_like(x_range), alpha=0.3, label=r'Omega')\n",
    "plt.legend()\n",
    "plt.xlabel('x')\n",
    "plt.ylabel('y')\n",
    "plt.xlim(left=0, right=3)\n",
    "plt.ylim(bottom=0, top=3)\n",
    "\n",
    "plt.savefig('omega_vis.png', dpi=600)\n",
    "plt.show()"
   ]
  },
  {
   "cell_type": "markdown",
   "metadata": {},
   "source": [
    "# Generator implementation\n"
   ]
  },
  {
   "cell_type": "markdown",
   "metadata": {},
   "source": [
    "## General idea\n",
    "\n",
    "For generating numbers from Omega we will use the rejection method."
   ]
  },
  {
   "cell_type": "code",
   "execution_count": 2,
   "metadata": {},
   "outputs": [],
   "source": [
    "import numpy as np\n",
    "\n",
    "_const_c = 8/9\n",
    "def f(x):\n",
    "    \"\"\"\n",
    "    Density probability function\n",
    "    Note that here \"x\" is a 2 element vector (i.e. variables X and Y)\n",
    "    \"\"\"\n",
    "    return _const_c * x[0] * x[1]\n"
   ]
  },
  {
   "cell_type": "markdown",
   "metadata": {},
   "source": [
    "Calculate max value of the probability function"
   ]
  },
  {
   "cell_type": "code",
   "execution_count": 3,
   "metadata": {},
   "outputs": [
    {
     "data": {
      "text/plain": [
       "3.5555555555555554"
      ]
     },
     "execution_count": 3,
     "metadata": {},
     "output_type": "execute_result"
    }
   ],
   "source": [
    "fx_max = f((2, 2))\n",
    "\n",
    "fx_max"
   ]
  },
  {
   "cell_type": "code",
   "execution_count": 4,
   "metadata": {},
   "outputs": [],
   "source": [
    "# Use this to generate random numbers with consistent seed\n",
    "seed = 66\n",
    "np_rng = np.random.default_rng(seed=seed)\n"
   ]
  },
  {
   "cell_type": "markdown",
   "metadata": {},
   "source": [
    "Proof of concept of generating samples"
   ]
  },
  {
   "cell_type": "code",
   "execution_count": 5,
   "metadata": {},
   "outputs": [
    {
     "data": {
      "text/plain": [
       "array([[1.92373388, 1.51040136, 2.61800176],\n",
       "       [1.69281813, 1.98988977, 2.58481953],\n",
       "       [1.07293478, 1.16414471, 2.58183818],\n",
       "       [1.62425381, 1.12028687, 1.46488514],\n",
       "       [1.4725191 , 1.03945343, 2.27199935],\n",
       "       [1.84901876, 1.26977353, 3.44762782],\n",
       "       [1.10282827, 1.17467894, 3.43794991],\n",
       "       [1.43752488, 1.68611076, 1.41176016],\n",
       "       [1.46004468, 1.22352332, 0.28152982],\n",
       "       [1.90878931, 1.27451867, 0.71716336]])"
      ]
     },
     "execution_count": 5,
     "metadata": {},
     "output_type": "execute_result"
    }
   ],
   "source": [
    "\n",
    "# We will generate 100 samples\n",
    "n_samples = 100\n",
    "\n",
    "# Our x1 and x2 ranges are the same - from 1 to 2\n",
    "xi_range = 1, 2\n",
    "\n",
    "x1 = np_rng.uniform(*xi_range, size=n_samples)\n",
    "x2 = np_rng.uniform(*xi_range, size=n_samples)\n",
    "fx = np_rng.uniform(0, fx_max, size=n_samples)\n",
    "\n",
    "# For simplicity create a matrix - each row is a sample of (x1, x2, fx)\n",
    "samples = np.stack((x1, x2, fx), axis=1)\n",
    "\n",
    "samples[:10]"
   ]
  },
  {
   "cell_type": "code",
   "execution_count": 6,
   "metadata": {},
   "outputs": [
    {
     "data": {
      "text/plain": [
       "(100, 3)"
      ]
     },
     "execution_count": 6,
     "metadata": {},
     "output_type": "execute_result"
    }
   ],
   "source": [
    "samples.shape"
   ]
  },
  {
   "cell_type": "markdown",
   "metadata": {},
   "source": [
    "To filter accepted values we can use following condition which will return a boolean array. Since we already generate from correct ranges we only need to ensure that x < y"
   ]
  },
  {
   "cell_type": "code",
   "execution_count": 7,
   "metadata": {},
   "outputs": [
    {
     "data": {
      "text/plain": [
       "array([[1.07293478, 1.16414471, 2.58183818],\n",
       "       [1.10282827, 1.17467894, 3.43794991],\n",
       "       [1.13803906, 1.46912417, 3.26260474],\n",
       "       [1.22959056, 1.76988753, 2.3478668 ],\n",
       "       [1.14288465, 1.45965636, 2.88048124],\n",
       "       [1.25370907, 1.94948465, 2.30614333],\n",
       "       [1.46925391, 1.90646712, 3.13749715],\n",
       "       [1.09264071, 1.22133779, 3.03442874],\n",
       "       [1.196885  , 1.34512349, 3.51723878],\n",
       "       [1.0115308 , 1.86595125, 2.6435471 ]])"
      ]
     },
     "execution_count": 7,
     "metadata": {},
     "output_type": "execute_result"
    }
   ],
   "source": [
    "\n",
    "accepted_filter = (np.apply_along_axis(f,1,samples) < samples[:, 2]) & (samples[:, 0] < samples[:, 1])\n",
    "accepted = samples[accepted_filter]\n",
    "accepted[:10]"
   ]
  },
  {
   "cell_type": "code",
   "execution_count": 8,
   "metadata": {},
   "outputs": [
    {
     "data": {
      "text/plain": [
       "array([False, False,  True, False, False, False,  True, False, False,\n",
       "       False])"
      ]
     },
     "execution_count": 8,
     "metadata": {},
     "output_type": "execute_result"
    }
   ],
   "source": [
    "accepted_filter[:10]"
   ]
  },
  {
   "cell_type": "markdown",
   "metadata": {},
   "source": [
    "Analogically, rejected items can be obtaining by negating the condition"
   ]
  },
  {
   "cell_type": "code",
   "execution_count": 9,
   "metadata": {},
   "outputs": [
    {
     "data": {
      "text/plain": [
       "array([[1.92373388, 1.51040136, 2.61800176],\n",
       "       [1.69281813, 1.98988977, 2.58481953],\n",
       "       [1.62425381, 1.12028687, 1.46488514],\n",
       "       [1.4725191 , 1.03945343, 2.27199935],\n",
       "       [1.84901876, 1.26977353, 3.44762782],\n",
       "       [1.43752488, 1.68611076, 1.41176016],\n",
       "       [1.46004468, 1.22352332, 0.28152982],\n",
       "       [1.90878931, 1.27451867, 0.71716336],\n",
       "       [1.79177719, 1.18483522, 1.77765827],\n",
       "       [1.5297229 , 1.59680124, 0.18458611]])"
      ]
     },
     "execution_count": 9,
     "metadata": {},
     "output_type": "execute_result"
    }
   ],
   "source": [
    "rejected_filter = ~((np.apply_along_axis(f,1,samples) < samples[:, 2]) & (samples[:, 0] < samples[:, 1]))\n",
    "rejected = samples[rejected_filter]\n",
    "rejected[:10]"
   ]
  },
  {
   "cell_type": "code",
   "execution_count": 10,
   "metadata": {},
   "outputs": [
    {
     "data": {
      "text/plain": [
       "array([ True,  True, False,  True,  True,  True, False,  True,  True,\n",
       "        True])"
      ]
     },
     "execution_count": 10,
     "metadata": {},
     "output_type": "execute_result"
    }
   ],
   "source": [
    "rejected_filter[:10]"
   ]
  },
  {
   "cell_type": "markdown",
   "metadata": {},
   "source": [
    "Negating rejected filter must give us the accepted filter"
   ]
  },
  {
   "cell_type": "code",
   "execution_count": 11,
   "metadata": {},
   "outputs": [
    {
     "data": {
      "text/plain": [
       "True"
      ]
     },
     "execution_count": 11,
     "metadata": {},
     "output_type": "execute_result"
    }
   ],
   "source": [
    "np.all(accepted_filter == ~rejected_filter)"
   ]
  },
  {
   "cell_type": "markdown",
   "metadata": {},
   "source": [
    "## Value generation"
   ]
  },
  {
   "cell_type": "code",
   "execution_count": 14,
   "metadata": {},
   "outputs": [],
   "source": [
    "def generate_samples(count=10_000, rng=np_rng):\n",
    "    \"\"\"\n",
    "    Generates batch of samples from the distribution\n",
    "\n",
    "    Args:\n",
    "        fx_max float: max_value of fx\n",
    "        count int: number of samples to generate\n",
    "        rng: rng generator. Defaults to np_rng.\n",
    "\n",
    "    Returns:\n",
    "        _type_: _description_\n",
    "    \"\"\"\n",
    "    # x1 and x2 have the same range - from 1 to 2\n",
    "    start, end = 1, 2\n",
    "    fx_max = f((2, 2))  # calculate max value of fx\n",
    "    \n",
    "    # Generate vector (matrix) u which will contain x1 and x2\n",
    "    u = np_rng.uniform(0, 1, 2*count)\n",
    "    \n",
    "    # Since x1 and x2 and have same range we can simply generate 2*count vector and then split it into two vectors\n",
    "    u = u.reshape(-1, 2)\n",
    "    \n",
    "    # Adjust scaling\n",
    "    x = start + (end - start) * u\n",
    "    \n",
    "    # Generate \"v\" vector which contains function values\n",
    "    v = np_rng.uniform(0, 1, count)\n",
    "    \n",
    "    # Not calling function f and computing it in-place like so will save us irrelevant msecs\n",
    "    fx = x[:, 0] * x[:, 1]\n",
    "    \n",
    "    # Finally filter out only accepted samples - i.e. f(x) < v * fx_max and x1 < x2\n",
    "    return x[(v * fx_max < fx) & (x[:, 0] < x[:, 1])]\n",
    "    "
   ]
  },
  {
   "cell_type": "code",
   "execution_count": 17,
   "metadata": {},
   "outputs": [
    {
     "data": {
      "text/plain": [
       "(1.7180597797769643,\n",
       " array([1.44048661, 1.66404877, 1.95123216, ..., 1.83459791, 1.39676583,\n",
       "        1.76955099]))"
      ]
     },
     "execution_count": 17,
     "metadata": {},
     "output_type": "execute_result"
    }
   ],
   "source": [
    "x = generate_samples(10_000_000)\n",
    "x[:, 1].mean(), x[:, 1]"
   ]
  },
  {
   "cell_type": "code",
   "execution_count": 37,
   "metadata": {},
   "outputs": [
    {
     "data": {
      "text/plain": [
       "array([1.57294727, 1.56260903, 1.67726104, ..., 1.82648253, 1.84099692,\n",
       "       1.29802099])"
      ]
     },
     "execution_count": 37,
     "metadata": {},
     "output_type": "execute_result"
    }
   ],
   "source": [
    "x[:, 1]"
   ]
  },
  {
   "cell_type": "markdown",
   "metadata": {},
   "source": [
    "## Expected value and variance convergence\n",
    "\n",
    "i.e. we want to test how many samples will be good enough to get close to the expected value and variance of the original distribution.\n",
    "Here we test several different sample sizes. We run each sample size 1000 times and calculate the mean and variance of the results which we compare to the exact value to see how close we can get."
   ]
  },
  {
   "cell_type": "code",
   "execution_count": 25,
   "metadata": {},
   "outputs": [],
   "source": [
    "n_runs = 1000\n",
    "sample_sizes = [100, 1000, 10_000, 100_000, 1_000_000] # 10 elements could throw NaN and are small enough sample size anyway"
   ]
  },
  {
   "cell_type": "code",
   "execution_count": 26,
   "metadata": {},
   "outputs": [],
   "source": [
    "def run_sample_size(sample_size: int, n_runs):\n",
    "    \"\"\"\n",
    "    Runs sample size n times\n",
    "\n",
    "    Args:\n",
    "        sample_size (int): _description_\n",
    "        n_runs (_type_, optional): _description_. Defaults to n_runs.\n",
    "\n",
    "    Returns:\n",
    "        mean, variance and percent accepted\n",
    "    \"\"\"\n",
    "    x_mean = [None for _ in range(n_runs)]\n",
    "    x_var = [None for _ in range(n_runs)]\n",
    "    x_cov = [None for _ in range(n_runs)]\n",
    "    percent_accepted = [None for _ in range(n_runs)]\n",
    "    \n",
    "    for i in range(n_runs):\n",
    "        x = generate_samples(count=sample_size)\n",
    "        x_mean[i] = np.mean(x, axis=0)\n",
    "        x_var[i] = np.var(x, axis=0, dtype=np.float64)\n",
    "        x_cov[i] = np.cov(x, rowvar=False, bias=True)\n",
    "        percent_accepted[i] = 100 * x.shape[0] / sample_size\n",
    "    \n",
    "    return x_mean, x_var, percent_accepted"
   ]
  },
  {
   "cell_type": "code",
   "execution_count": 27,
   "metadata": {},
   "outputs": [],
   "source": [
    "\n",
    "stats = {}\n",
    "for sample_size in sample_sizes:\n",
    "    mean, var, cov, percent_accepted = run_sample_size(sample_size, n_runs=n_runs)\n",
    "    stats[sample_size] = {\n",
    "        'mean': mean,\n",
    "        'var': var,\n",
    "        'cov': cov,\n",
    "        'percent_accepted': percent_accepted\n",
    "    }"
   ]
  },
  {
   "cell_type": "code",
   "execution_count": 28,
   "metadata": {},
   "outputs": [
    {
     "data": {
      "text/plain": [
       "{100: {'mean': array([1.39420957, 1.7199525 ]),\n",
       "  'var': array([0.0587273 , 0.04470058]),\n",
       "  'percent_accepted': 31.673},\n",
       " 1000: {'mean': array([1.39163494, 1.7179828 ]),\n",
       "  'var': array([0.06011598, 0.04657944]),\n",
       "  'percent_accepted': 31.6014},\n",
       " 10000: {'mean': array([1.39187233, 1.71795236]),\n",
       "  'var': array([0.06031345, 0.04668034]),\n",
       "  'percent_accepted': 31.59163},\n",
       " 100000: {'mean': array([1.39171918, 1.7180818 ]),\n",
       "  'var': array([0.06030521, 0.04665762]),\n",
       "  'percent_accepted': 31.583063000000003},\n",
       " 1000000: {'mean': array([1.39170971, 1.71811243]),\n",
       "  'var': array([0.06033134, 0.04665913]),\n",
       "  'percent_accepted': 31.587279800000005}}"
      ]
     },
     "execution_count": 28,
     "metadata": {},
     "output_type": "execute_result"
    }
   ],
   "source": [
    "\n",
    "# Calculate average stats for each sample size\n",
    "avg_stats = {}\n",
    "for sample_size in stats.keys():\n",
    "    avg_stats[sample_size] = {\n",
    "        'mean': np.mean(stats[sample_size]['mean'], axis=0),\n",
    "        'var': np.mean(stats[sample_size]['var'], axis=0),\n",
    "        'percent_accepted': np.mean(stats[sample_size]['percent_accepted'], axis=0)\n",
    "    }\n",
    "\n",
    "avg_stats"
   ]
  },
  {
   "cell_type": "markdown",
   "metadata": {},
   "source": [
    "We will use values calculated from Wolfram alpha / by hand as ground truth and compare the results against them"
   ]
  },
  {
   "cell_type": "code",
   "execution_count": 29,
   "metadata": {},
   "outputs": [],
   "source": [
    "actual_mean_x = 1.39259\n",
    "actual_mean_y = 1.71852\n",
    "actual_var_x = .06067\n",
    "actual_var_y = .04669\n",
    "\n",
    "actual_mean = np.array([actual_mean_x, actual_mean_y])\n",
    "actual_var = np.array([actual_var_x, actual_var_y])"
   ]
  },
  {
   "cell_type": "code",
   "execution_count": 31,
   "metadata": {},
   "outputs": [
    {
     "name": "stdout",
     "output_type": "stream",
     "text": [
      "Sample size 100\n",
      "  Mean: [1.39420957 1.7199525 ], difference with expected value: [0.00161957 0.0014325 ]\n",
      "  Variance: [0.0587273  0.04470058], difference with expected value: [-0.0019427  -0.00198942]\n",
      "Sample size 1000\n",
      "  Mean: [1.39163494 1.7179828 ], difference with expected value: [-0.00095506 -0.0005372 ]\n",
      "  Variance: [0.06011598 0.04657944], difference with expected value: [-0.00055402 -0.00011056]\n",
      "Sample size 10000\n",
      "  Mean: [1.39187233 1.71795236], difference with expected value: [-0.00071767 -0.00056764]\n",
      "  Variance: [0.06031345 0.04668034], difference with expected value: [-3.56553444e-04 -9.66266997e-06]\n",
      "Sample size 100000\n",
      "  Mean: [1.39171918 1.7180818 ], difference with expected value: [-0.00087082 -0.0004382 ]\n",
      "  Variance: [0.06030521 0.04665762], difference with expected value: [-3.64787721e-04 -3.23849344e-05]\n",
      "Sample size 1000000\n",
      "  Mean: [1.39170971 1.71811243], difference with expected value: [-0.00088029 -0.00040757]\n",
      "  Variance: [0.06033134 0.04665913], difference with expected value: [-3.38660769e-04 -3.08665131e-05]\n"
     ]
    }
   ],
   "source": [
    "\n",
    "for sample_size in avg_stats.keys():\n",
    "    print(f'Sample size {sample_size}')\n",
    "    mean_err = avg_stats[sample_size][\"mean\"] - actual_mean    \n",
    "    print(f'  Mean: {avg_stats[sample_size][\"mean\"]}, difference with ground truth: {mean_err}')\n",
    "    var_err = avg_stats[sample_size][\"var\"] - actual_var\n",
    "    print(f'  Variance: {avg_stats[sample_size][\"var\"]}, difference with ground truth: {var_err}')"
   ]
  },
  {
   "cell_type": "markdown",
   "metadata": {},
   "source": [
    "I.e. for 1,000,000 samples we get around 3e-4 error in expected value and 3e-5 error in variance"
   ]
  },
  {
   "cell_type": "markdown",
   "metadata": {},
   "source": [
    "## Rejection / acceptation visualization"
   ]
  },
  {
   "cell_type": "markdown",
   "metadata": {},
   "source": [
    "Here we visualize number of accepted and rejected samples for sample size of 1k"
   ]
  },
  {
   "cell_type": "code",
   "execution_count": 77,
   "metadata": {},
   "outputs": [],
   "source": [
    "\n",
    "# Same function as above but we also return rejected samples\n",
    "def generate_samples(count=10_000, rng=np_rng):\n",
    "    start, end = 1, 2\n",
    "    fx_max = f((2, 2))  # calculate max value of fx\n",
    "    u = np_rng.uniform(0, 1, 2*count)\n",
    "    u = u.reshape(-1, 2)\n",
    "    x = start + (end - start) * u\n",
    "    v = np_rng.uniform(0, 1, count)\n",
    "    fx = x[:, 0] * x[:, 1]\n",
    "    accepted = (v * fx_max < fx) & (x[:, 0] < x[:, 1])\n",
    "    return x[accepted], x[~accepted]\n",
    "    "
   ]
  },
  {
   "cell_type": "code",
   "execution_count": 78,
   "metadata": {},
   "outputs": [
    {
     "data": {
      "text/plain": [
       "(array([[1.60984684, 1.93443454],\n",
       "        [1.16686195, 1.86919573],\n",
       "        [1.03453621, 1.85888473],\n",
       "        [1.193282  , 1.64676758],\n",
       "        [1.92994524, 1.95820225]]),\n",
       " array([[1.97253664, 1.33192696],\n",
       "        [1.09206779, 1.6906724 ],\n",
       "        [1.94040989, 1.80914906],\n",
       "        [1.22478171, 1.54565355],\n",
       "        [1.32833781, 1.15687898]]))"
      ]
     },
     "execution_count": 78,
     "metadata": {},
     "output_type": "execute_result"
    }
   ],
   "source": [
    "accepted, rejected = generate_samples(1000)\n",
    "\n",
    "accepted[:5], rejected[:5]"
   ]
  },
  {
   "cell_type": "code",
   "execution_count": 75,
   "metadata": {},
   "outputs": [
    {
     "data": {
      "text/plain": [
       "(307, 2)"
      ]
     },
     "execution_count": 75,
     "metadata": {},
     "output_type": "execute_result"
    }
   ],
   "source": [
    "accepted.shape"
   ]
  },
  {
   "cell_type": "code",
   "execution_count": 80,
   "metadata": {},
   "outputs": [
    {
     "data": {
      "image/png": "[encoded data removed]",
      "text/plain": [
       "<Figure size 432x288 with 1 Axes>"
      ]
     },
     "metadata": {
      "needs_background": "light"
     },
     "output_type": "display_data"
    }
   ],
   "source": [
    "x_range = np.linspace(1, 2, 100)  # range of random variable X\n",
    "sampling_range = np.linspace(.5, 2.2, 100)  # range of lines for visualization\n",
    "f1 = x_range\n",
    "# f2 will simply be plotted as a line because it is not a y = f(x) function\n",
    "f3 = 2 * np.ones_like(x_range)\n",
    "\n",
    "def make_plot(output_name, show_rejected=False):\n",
    "    plt.plot(x_range, f1, color='orange')\n",
    "    plt.plot((1, 1), (1, 2), color='orange')\n",
    "    plt.plot(x_range, f3, color='orange')\n",
    "    plt.scatter(accepted[:, 0], accepted[:, 1], color='green', s=1)\n",
    "    if show_rejected:\n",
    "        plt.scatter(rejected[:, 0], rejected[:, 1], color='red', s=1)\n",
    "\n",
    "    plt.fill_between(x_range, x_range, 2 * np.ones_like(x_range), alpha=0.3, label=r'Omega')\n",
    "    plt.legend()\n",
    "    plt.xlabel('x')\n",
    "    plt.ylabel('y')\n",
    "    plt.xlim(left=.9, right=2.2)\n",
    "    plt.ylim(bottom=.8, top=2.2)\n",
    "\n",
    "    plt.savefig(output_name, dpi=600)\n",
    "    plt.show()\n",
    "\n",
    "make_plot('visualization_with_rejections.png', show_rejected=True)"
   ]
  },
  {
   "cell_type": "code",
   "execution_count": 81,
   "metadata": {},
   "outputs": [
    {
     "data": {
      "image/png": "[encoded data removed]",
      "text/plain": [
       "<Figure size 432x288 with 1 Axes>"
      ]
     },
     "metadata": {
      "needs_background": "light"
     },
     "output_type": "display_data"
    }
   ],
   "source": [
    "make_plot('visualization_wo_rejections.png', False)"
   ]
  }
 ],
 "metadata": {
  "kernelspec": {
   "display_name": "Python 3.10.4 ('anlp')",
   "language": "python",
   "name": "python3"
  },
  "language_info": {
   "codemirror_mode": {
    "name": "ipython",
    "version": 3
   },
   "file_extension": ".py",
   "mimetype": "text/x-python",
   "name": "python",
   "nbconvert_exporter": "python",
   "pygments_lexer": "ipython3",
   "version": "3.10.4"
  },
  "orig_nbformat": 4,
  "vscode": {
   "interpreter": {
    "hash": "2d31d17d1302681d1d8420122baf258e6df03ef4952e214be8928b54498623cb"
   }
  }
 },
 "nbformat": 4,
 "nbformat_minor": 2
}
