{
 "cells": [
  {
   "cell_type": "code",
   "execution_count": 16,
   "metadata": {
    "collapsed": true
   },
   "outputs": [
    {
     "data": {
      "text/plain": "6.249999999999973"
     },
     "execution_count": 16,
     "metadata": {},
     "output_type": "execute_result"
    }
   ],
   "source": [
    "import numpy as np\n",
    "\n",
    "#\n",
    "Sigma = np.array([\n",
    "    [2, 2.80],\n",
    "    [2.80, 4]\n",
    "])\n",
    "\n",
    "x_mean = np.array([0.5, 0.5])\n",
    "chi2_val = 5.991\n",
    "\n",
    "Sigma_inv = np.linalg.inv(Sigma)\n",
    "test_statistic = 10 * x_mean.T.dot(Sigma_inv).dot(x_mean)\n",
    "\n",
    "test_statistic"
   ]
  },
  {
   "cell_type": "code",
   "execution_count": 25,
   "outputs": [
    {
     "data": {
      "text/plain": "36.781609195402304"
     },
     "execution_count": 25,
     "metadata": {},
     "output_type": "execute_result"
    }
   ],
   "source": [
    "\n",
    "x1_mean = np.array([15, 13])\n",
    "x2_mean = np.array([15, 15])\n",
    "x1_S = np.array([\n",
    "    [2, .5],\n",
    "    [.5, 3]\n",
    "])\n",
    "x2_S = np.array([\n",
    "    [2, 1],\n",
    "    [1, 3]\n",
    "])\n",
    "\n",
    "n1 = 10\n",
    "n2 = 10\n",
    "\n",
    "statistic = (x1_mean - x2_mean).T.dot(np.linalg.inv(x1_S/n1 + x2_S/n2)).dot(x1_mean - x2_mean) *(n1 * n2) / (n1 + n2)\n",
    "statistic\n"
   ],
   "metadata": {
    "collapsed": false
   }
  },
  {
   "cell_type": "code",
   "execution_count": null,
   "outputs": [],
   "source": [],
   "metadata": {
    "collapsed": false
   }
  }
 ],
 "metadata": {
  "kernelspec": {
   "display_name": "Python 3",
   "language": "python",
   "name": "python3"
  },
  "language_info": {
   "codemirror_mode": {
    "name": "ipython",
    "version": 2
   },
   "file_extension": ".py",
   "mimetype": "text/x-python",
   "name": "python",
   "nbconvert_exporter": "python",
   "pygments_lexer": "ipython2",
   "version": "2.7.6"
  }
 },
 "nbformat": 4,
 "nbformat_minor": 0
}
