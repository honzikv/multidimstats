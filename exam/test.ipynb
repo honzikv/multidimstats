{
 "cells": [
  {
   "cell_type": "code",
   "execution_count": 16,
   "metadata": {
    "collapsed": true
   },
   "outputs": [
    {
     "data": {
      "text/plain": "6.249999999999973"
     },
     "execution_count": 16,
     "metadata": {},
     "output_type": "execute_result"
    }
   ],
   "source": [
    "import numpy as np\n",
    "\n",
    "#\n",
    "Sigma = np.array([\n",
    "    [2, 2.80],\n",
    "    [2.80, 4]\n",
    "])\n",
    "\n",
    "x_mean = np.array([0.5, 0.5])\n",
    "chi2_val = 5.991\n",
    "\n",
    "Sigma_inv = np.linalg.inv(Sigma)\n",
    "test_statistic = 10 * x_mean.T.dot(Sigma_inv).dot(x_mean)\n",
    "\n",
    "test_statistic"
   ]
  },
  {
   "cell_type": "code",
   "execution_count": null,
   "outputs": [],
   "source": [],
   "metadata": {
    "collapsed": false
   }
  }
 ],
 "metadata": {
  "kernelspec": {
   "display_name": "Python 3",
   "language": "python",
   "name": "python3"
  },
  "language_info": {
   "codemirror_mode": {
    "name": "ipython",
    "version": 2
   },
   "file_extension": ".py",
   "mimetype": "text/x-python",
   "name": "python",
   "nbconvert_exporter": "python",
   "pygments_lexer": "ipython2",
   "version": "2.7.6"
  }
 },
 "nbformat": 4,
 "nbformat_minor": 0
}
