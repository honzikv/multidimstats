{
 "cells": [
  {
   "attachments": {},
   "cell_type": "markdown",
   "metadata": {},
   "source": [
    "# Contingency tables"
   ]
  },
  {
   "cell_type": "code",
   "execution_count": 1,
   "metadata": {
    "collapsed": true
   },
   "outputs": [],
   "source": [
    "import pandas as pd\n",
    "import numpy as np"
   ]
  },
  {
   "cell_type": "code",
   "execution_count": 15,
   "metadata": {},
   "outputs": [],
   "source": [
    "col_names = ['survived', 'died']\n",
    "row_names = ['treated', 'not_treated']\n",
    "\n",
    "# Create a contingency table for males\n",
    "males_df = pd.DataFrame([[50, 60], [30, 40]], columns=col_names, index=row_names)\n",
    "females_df = pd.DataFrame([[60, 30], [90, 50]], columns=col_names, index=row_names)"
   ]
  },
  {
   "cell_type": "code",
   "execution_count": 16,
   "metadata": {},
   "outputs": [
    {
     "data": {
      "text/html": [
       "<div>\n",
       "<style scoped>\n",
       "    .dataframe tbody tr th:only-of-type {\n",
       "        vertical-align: middle;\n",
       "    }\n",
       "\n",
       "    .dataframe tbody tr th {\n",
       "        vertical-align: top;\n",
       "    }\n",
       "\n",
       "    .dataframe thead th {\n",
       "        text-align: right;\n",
       "    }\n",
       "</style>\n",
       "<table border=\"1\" class=\"dataframe\">\n",
       "  <thead>\n",
       "    <tr style=\"text-align: right;\">\n",
       "      <th></th>\n",
       "      <th>survived</th>\n",
       "      <th>died</th>\n",
       "    </tr>\n",
       "  </thead>\n",
       "  <tbody>\n",
       "    <tr>\n",
       "      <th>treated</th>\n",
       "      <td>50</td>\n",
       "      <td>60</td>\n",
       "    </tr>\n",
       "    <tr>\n",
       "      <th>not_treated</th>\n",
       "      <td>30</td>\n",
       "      <td>40</td>\n",
       "    </tr>\n",
       "  </tbody>\n",
       "</table>\n",
       "</div>"
      ],
      "text/plain": [
       "             survived  died\n",
       "treated            50    60\n",
       "not_treated        30    40"
      ]
     },
     "execution_count": 16,
     "metadata": {},
     "output_type": "execute_result"
    }
   ],
   "source": [
    "males_df"
   ]
  },
  {
   "cell_type": "code",
   "execution_count": 17,
   "metadata": {},
   "outputs": [
    {
     "data": {
      "text/html": [
       "<div>\n",
       "<style scoped>\n",
       "    .dataframe tbody tr th:only-of-type {\n",
       "        vertical-align: middle;\n",
       "    }\n",
       "\n",
       "    .dataframe tbody tr th {\n",
       "        vertical-align: top;\n",
       "    }\n",
       "\n",
       "    .dataframe thead th {\n",
       "        text-align: right;\n",
       "    }\n",
       "</style>\n",
       "<table border=\"1\" class=\"dataframe\">\n",
       "  <thead>\n",
       "    <tr style=\"text-align: right;\">\n",
       "      <th></th>\n",
       "      <th>survived</th>\n",
       "      <th>died</th>\n",
       "    </tr>\n",
       "  </thead>\n",
       "  <tbody>\n",
       "    <tr>\n",
       "      <th>treated</th>\n",
       "      <td>60</td>\n",
       "      <td>30</td>\n",
       "    </tr>\n",
       "    <tr>\n",
       "      <th>not_treated</th>\n",
       "      <td>90</td>\n",
       "      <td>50</td>\n",
       "    </tr>\n",
       "  </tbody>\n",
       "</table>\n",
       "</div>"
      ],
      "text/plain": [
       "             survived  died\n",
       "treated            60    30\n",
       "not_treated        90    50"
      ]
     },
     "execution_count": 17,
     "metadata": {},
     "output_type": "execute_result"
    }
   ],
   "source": [
    "females_df"
   ]
  },
  {
   "attachments": {},
   "cell_type": "markdown",
   "metadata": {},
   "source": [
    "## Perform Chi-Square test of independence\n",
    "\n",
    "Determine whether treatment and outcome (i.e. survived or died) are independent.\n",
    "\n",
    "H0: treatment and outcome are independent\n",
    "H1: treatment and outcome are dependent\n",
    "\n",
    "If the p-value is less than 0.05, we reject the null hypothesis and conclude that treatment and outcome are dependent.\n",
    "\n"
   ]
  },
  {
   "cell_type": "code",
   "execution_count": 20,
   "metadata": {},
   "outputs": [],
   "source": [
    "import scipy.stats as stats\n",
    "\n",
    "males_chi_square_result = stats.chi2_contingency(males_df)\n",
    "females_chi_square_result = stats.chi2_contingency(females_df)\n"
   ]
  },
  {
   "cell_type": "code",
   "execution_count": 21,
   "metadata": {},
   "outputs": [
    {
     "name": "stdout",
     "output_type": "stream",
     "text": [
      "------------------------\n",
      "Chi-square value:  0.03535714285714309\n",
      "p-value:  0.8508492527705047  (not statistically significant)\n",
      "Fail to reject the null hypothesis\n",
      "Degree of freedom:  1\n",
      "Expected frequencies:  [[48.88888889 61.11111111]\n",
      " [31.11111111 38.88888889]]\n",
      "------------------------\n",
      "\n",
      "------------------------\n",
      "Chi-square value:  0.0520618386243384\n",
      "p-value:  0.8195135892996177  (not statistically significant)\n",
      "Fail to reject the null hypothesis\n",
      "Degree of freedom:  1\n",
      "Expected frequencies:  [[58.69565217 31.30434783]\n",
      " [91.30434783 48.69565217]]\n",
      "------------------------\n"
     ]
    }
   ],
   "source": [
    "# Print the results\n",
    "\n",
    "def print_stats(chi_square_result):\n",
    "    print('------------------------')\n",
    "    print('Chi-square value: ', chi_square_result[0])\n",
    "    p_value = chi_square_result[1]\n",
    "    if p_value < 0.05:\n",
    "        print('p-value: ', chi_square_result[1], ' (statistically significant)')\n",
    "        print('Reject the null hypothesis')\n",
    "    else:\n",
    "        print('p-value: ', chi_square_result[1], ' (not statistically significant)')\n",
    "        print('Fail to reject the null hypothesis')\n",
    "    \n",
    "    print('Degree of freedom: ', chi_square_result[2])\n",
    "    print('Expected frequencies: ', chi_square_result[3])\n",
    "    print('------------------------')\n",
    "    \n",
    "print_stats(males_chi_square_result)\n",
    "print('')\n",
    "print_stats(females_chi_square_result)"
   ]
  },
  {
   "attachments": {},
   "cell_type": "markdown",
   "metadata": {},
   "source": [
    "## Join the contingency table for male and female"
   ]
  },
  {
   "cell_type": "code",
   "execution_count": 22,
   "metadata": {},
   "outputs": [
    {
     "data": {
      "text/html": [
       "<div>\n",
       "<style scoped>\n",
       "    .dataframe tbody tr th:only-of-type {\n",
       "        vertical-align: middle;\n",
       "    }\n",
       "\n",
       "    .dataframe tbody tr th {\n",
       "        vertical-align: top;\n",
       "    }\n",
       "\n",
       "    .dataframe thead th {\n",
       "        text-align: right;\n",
       "    }\n",
       "</style>\n",
       "<table border=\"1\" class=\"dataframe\">\n",
       "  <thead>\n",
       "    <tr style=\"text-align: right;\">\n",
       "      <th></th>\n",
       "      <th>survived</th>\n",
       "      <th>died</th>\n",
       "    </tr>\n",
       "  </thead>\n",
       "  <tbody>\n",
       "    <tr>\n",
       "      <th>treated</th>\n",
       "      <td>110</td>\n",
       "      <td>90</td>\n",
       "    </tr>\n",
       "    <tr>\n",
       "      <th>not_treated</th>\n",
       "      <td>120</td>\n",
       "      <td>90</td>\n",
       "    </tr>\n",
       "  </tbody>\n",
       "</table>\n",
       "</div>"
      ],
      "text/plain": [
       "             survived  died\n",
       "treated           110    90\n",
       "not_treated       120    90"
      ]
     },
     "execution_count": 22,
     "metadata": {},
     "output_type": "execute_result"
    }
   ],
   "source": [
    "# Add the male and female contingency tables together\n",
    "# I.e. ignore the gender column\n",
    "df = males_df.add(females_df)\n",
    "\n",
    "df"
   ]
  },
  {
   "cell_type": "code",
   "execution_count": 23,
   "metadata": {},
   "outputs": [
    {
     "name": "stdout",
     "output_type": "stream",
     "text": [
      "------------------------\n",
      "Chi-square value:  0.11389478375891327\n",
      "p-value:  0.7357528158315947  (not statistically significant)\n",
      "Fail to reject the null hypothesis\n",
      "Degree of freedom:  1\n",
      "Expected frequencies:  [[112.19512195  87.80487805]\n",
      " [117.80487805  92.19512195]]\n",
      "------------------------\n"
     ]
    }
   ],
   "source": [
    "print_stats(stats.chi2_contingency(df))"
   ]
  },
  {
   "attachments": {},
   "cell_type": "markdown",
   "metadata": {},
   "source": [
    "# Loglinear model\n",
    "\n",
    "Convert the contingency table into a loglinear model. Basically we can take the data frames and treat them as a vector"
   ]
  },
  {
   "cell_type": "code",
   "execution_count": 35,
   "metadata": {},
   "outputs": [],
   "source": [
    "# Create crosstab where the third dimension is the gender\n",
    "df = pd.crosstab(\n",
    "    \n",
    ")"
   ]
  },
  {
   "cell_type": "code",
   "execution_count": 39,
   "metadata": {},
   "outputs": [
    {
     "ename": "ValueError",
     "evalue": "Data must be 1-dimensional",
     "output_type": "error",
     "traceback": [
      "\u001B[1;31m---------------------------------------------------------------------------\u001B[0m",
      "\u001B[1;31mValueError\u001B[0m                                Traceback (most recent call last)",
      "Cell \u001B[1;32mIn[39], line 1\u001B[0m\n\u001B[1;32m----> 1\u001B[0m gender_cross \u001B[39m=\u001B[39m pd\u001B[39m.\u001B[39;49mcrosstab(index\u001B[39m=\u001B[39;49mrow_names, columns\u001B[39m=\u001B[39;49m[males_df, females_df], \n\u001B[0;32m      2\u001B[0m                            values\u001B[39m=\u001B[39;49m[males_df\u001B[39m.\u001B[39;49mvalues, females_df\u001B[39m.\u001B[39;49mvalues], \n\u001B[0;32m      3\u001B[0m                            aggfunc\u001B[39m=\u001B[39;49mnp\u001B[39m.\u001B[39;49msum, rownames\u001B[39m=\u001B[39;49m[\u001B[39m'\u001B[39;49m\u001B[39mTreatment\u001B[39;49m\u001B[39m'\u001B[39;49m], colnames\u001B[39m=\u001B[39;49m[\u001B[39m'\u001B[39;49m\u001B[39mGender\u001B[39;49m\u001B[39m'\u001B[39;49m, \u001B[39m'\u001B[39;49m\u001B[39mOutcome\u001B[39;49m\u001B[39m'\u001B[39;49m])\n",
      "File \u001B[1;32mc:\\Users\\itznu\\anaconda3\\envs\\stats\\lib\\site-packages\\pandas\\core\\reshape\\pivot.py:682\u001B[0m, in \u001B[0;36mcrosstab\u001B[1;34m(index, columns, values, rownames, colnames, aggfunc, margins, margins_name, dropna, normalize)\u001B[0m\n\u001B[0;32m    676\u001B[0m \u001B[39mfrom\u001B[39;00m \u001B[39mpandas\u001B[39;00m \u001B[39mimport\u001B[39;00m DataFrame\n\u001B[0;32m    678\u001B[0m data \u001B[39m=\u001B[39m {\n\u001B[0;32m    679\u001B[0m     \u001B[39m*\u001B[39m\u001B[39m*\u001B[39m\u001B[39mdict\u001B[39m(\u001B[39mzip\u001B[39m(unique_rownames, index)),\n\u001B[0;32m    680\u001B[0m     \u001B[39m*\u001B[39m\u001B[39m*\u001B[39m\u001B[39mdict\u001B[39m(\u001B[39mzip\u001B[39m(unique_colnames, columns)),\n\u001B[0;32m    681\u001B[0m }\n\u001B[1;32m--> 682\u001B[0m df \u001B[39m=\u001B[39m DataFrame(data, index\u001B[39m=\u001B[39;49mcommon_idx)\n\u001B[0;32m    684\u001B[0m \u001B[39mif\u001B[39;00m values \u001B[39mis\u001B[39;00m \u001B[39mNone\u001B[39;00m:\n\u001B[0;32m    685\u001B[0m     df[\u001B[39m\"\u001B[39m\u001B[39m__dummy__\u001B[39m\u001B[39m\"\u001B[39m] \u001B[39m=\u001B[39m \u001B[39m0\u001B[39m\n",
      "File \u001B[1;32mc:\\Users\\itznu\\anaconda3\\envs\\stats\\lib\\site-packages\\pandas\\core\\frame.py:664\u001B[0m, in \u001B[0;36mDataFrame.__init__\u001B[1;34m(self, data, index, columns, dtype, copy)\u001B[0m\n\u001B[0;32m    658\u001B[0m     mgr \u001B[39m=\u001B[39m \u001B[39mself\u001B[39m\u001B[39m.\u001B[39m_init_mgr(\n\u001B[0;32m    659\u001B[0m         data, axes\u001B[39m=\u001B[39m{\u001B[39m\"\u001B[39m\u001B[39mindex\u001B[39m\u001B[39m\"\u001B[39m: index, \u001B[39m\"\u001B[39m\u001B[39mcolumns\u001B[39m\u001B[39m\"\u001B[39m: columns}, dtype\u001B[39m=\u001B[39mdtype, copy\u001B[39m=\u001B[39mcopy\n\u001B[0;32m    660\u001B[0m     )\n\u001B[0;32m    662\u001B[0m \u001B[39melif\u001B[39;00m \u001B[39misinstance\u001B[39m(data, \u001B[39mdict\u001B[39m):\n\u001B[0;32m    663\u001B[0m     \u001B[39m# GH#38939 de facto copy defaults to False only in non-dict cases\u001B[39;00m\n\u001B[1;32m--> 664\u001B[0m     mgr \u001B[39m=\u001B[39m dict_to_mgr(data, index, columns, dtype\u001B[39m=\u001B[39;49mdtype, copy\u001B[39m=\u001B[39;49mcopy, typ\u001B[39m=\u001B[39;49mmanager)\n\u001B[0;32m    665\u001B[0m \u001B[39melif\u001B[39;00m \u001B[39misinstance\u001B[39m(data, ma\u001B[39m.\u001B[39mMaskedArray):\n\u001B[0;32m    666\u001B[0m     \u001B[39mimport\u001B[39;00m \u001B[39mnumpy\u001B[39;00m\u001B[39m.\u001B[39;00m\u001B[39mma\u001B[39;00m\u001B[39m.\u001B[39;00m\u001B[39mmrecords\u001B[39;00m \u001B[39mas\u001B[39;00m \u001B[39mmrecords\u001B[39;00m\n",
      "File \u001B[1;32mc:\\Users\\itznu\\anaconda3\\envs\\stats\\lib\\site-packages\\pandas\\core\\internals\\construction.py:493\u001B[0m, in \u001B[0;36mdict_to_mgr\u001B[1;34m(data, index, columns, dtype, typ, copy)\u001B[0m\n\u001B[0;32m    489\u001B[0m     \u001B[39melse\u001B[39;00m:\n\u001B[0;32m    490\u001B[0m         \u001B[39m# dtype check to exclude e.g. range objects, scalars\u001B[39;00m\n\u001B[0;32m    491\u001B[0m         arrays \u001B[39m=\u001B[39m [x\u001B[39m.\u001B[39mcopy() \u001B[39mif\u001B[39;00m \u001B[39mhasattr\u001B[39m(x, \u001B[39m\"\u001B[39m\u001B[39mdtype\u001B[39m\u001B[39m\"\u001B[39m) \u001B[39melse\u001B[39;00m x \u001B[39mfor\u001B[39;00m x \u001B[39min\u001B[39;00m arrays]\n\u001B[1;32m--> 493\u001B[0m \u001B[39mreturn\u001B[39;00m arrays_to_mgr(arrays, columns, index, dtype\u001B[39m=\u001B[39;49mdtype, typ\u001B[39m=\u001B[39;49mtyp, consolidate\u001B[39m=\u001B[39;49mcopy)\n",
      "File \u001B[1;32mc:\\Users\\itznu\\anaconda3\\envs\\stats\\lib\\site-packages\\pandas\\core\\internals\\construction.py:123\u001B[0m, in \u001B[0;36marrays_to_mgr\u001B[1;34m(arrays, columns, index, dtype, verify_integrity, typ, consolidate)\u001B[0m\n\u001B[0;32m    120\u001B[0m         index \u001B[39m=\u001B[39m ensure_index(index)\n\u001B[0;32m    122\u001B[0m     \u001B[39m# don't force copy because getting jammed in an ndarray anyway\u001B[39;00m\n\u001B[1;32m--> 123\u001B[0m     arrays \u001B[39m=\u001B[39m _homogenize(arrays, index, dtype)\n\u001B[0;32m    124\u001B[0m     \u001B[39m# _homogenize ensures\u001B[39;00m\n\u001B[0;32m    125\u001B[0m     \u001B[39m#  - all(len(x) == len(index) for x in arrays)\u001B[39;00m\n\u001B[0;32m    126\u001B[0m     \u001B[39m#  - all(x.ndim == 1 for x in arrays)\u001B[39;00m\n\u001B[1;32m   (...)\u001B[0m\n\u001B[0;32m    129\u001B[0m \n\u001B[0;32m    130\u001B[0m \u001B[39melse\u001B[39;00m:\n\u001B[0;32m    131\u001B[0m     index \u001B[39m=\u001B[39m ensure_index(index)\n",
      "File \u001B[1;32mc:\\Users\\itznu\\anaconda3\\envs\\stats\\lib\\site-packages\\pandas\\core\\internals\\construction.py:617\u001B[0m, in \u001B[0;36m_homogenize\u001B[1;34m(data, index, dtype)\u001B[0m\n\u001B[0;32m    614\u001B[0m             val \u001B[39m=\u001B[39m \u001B[39mdict\u001B[39m(val)\n\u001B[0;32m    615\u001B[0m         val \u001B[39m=\u001B[39m lib\u001B[39m.\u001B[39mfast_multiget(val, oindex\u001B[39m.\u001B[39m_values, default\u001B[39m=\u001B[39mnp\u001B[39m.\u001B[39mnan)\n\u001B[1;32m--> 617\u001B[0m     val \u001B[39m=\u001B[39m sanitize_array(\n\u001B[0;32m    618\u001B[0m         val, index, dtype\u001B[39m=\u001B[39;49mdtype, copy\u001B[39m=\u001B[39;49m\u001B[39mFalse\u001B[39;49;00m, raise_cast_failure\u001B[39m=\u001B[39;49m\u001B[39mFalse\u001B[39;49;00m\n\u001B[0;32m    619\u001B[0m     )\n\u001B[0;32m    620\u001B[0m     com\u001B[39m.\u001B[39mrequire_length_match(val, index)\n\u001B[0;32m    622\u001B[0m homogenized\u001B[39m.\u001B[39mappend(val)\n",
      "File \u001B[1;32mc:\\Users\\itznu\\anaconda3\\envs\\stats\\lib\\site-packages\\pandas\\core\\construction.py:647\u001B[0m, in \u001B[0;36msanitize_array\u001B[1;34m(data, index, dtype, copy, raise_cast_failure, allow_2d)\u001B[0m\n\u001B[0;32m    644\u001B[0m             subarr \u001B[39m=\u001B[39m cast(np\u001B[39m.\u001B[39mndarray, subarr)\n\u001B[0;32m    645\u001B[0m             subarr \u001B[39m=\u001B[39m maybe_infer_to_datetimelike(subarr)\n\u001B[1;32m--> 647\u001B[0m subarr \u001B[39m=\u001B[39m _sanitize_ndim(subarr, data, dtype, index, allow_2d\u001B[39m=\u001B[39;49mallow_2d)\n\u001B[0;32m    649\u001B[0m \u001B[39mif\u001B[39;00m \u001B[39misinstance\u001B[39m(subarr, np\u001B[39m.\u001B[39mndarray):\n\u001B[0;32m    650\u001B[0m     \u001B[39m# at this point we should have dtype be None or subarr.dtype == dtype\u001B[39;00m\n\u001B[0;32m    651\u001B[0m     dtype \u001B[39m=\u001B[39m cast(np\u001B[39m.\u001B[39mdtype, dtype)\n",
      "File \u001B[1;32mc:\\Users\\itznu\\anaconda3\\envs\\stats\\lib\\site-packages\\pandas\\core\\construction.py:698\u001B[0m, in \u001B[0;36m_sanitize_ndim\u001B[1;34m(result, data, dtype, index, allow_2d)\u001B[0m\n\u001B[0;32m    696\u001B[0m     \u001B[39mif\u001B[39;00m allow_2d:\n\u001B[0;32m    697\u001B[0m         \u001B[39mreturn\u001B[39;00m result\n\u001B[1;32m--> 698\u001B[0m     \u001B[39mraise\u001B[39;00m \u001B[39mValueError\u001B[39;00m(\u001B[39m\"\u001B[39m\u001B[39mData must be 1-dimensional\u001B[39m\u001B[39m\"\u001B[39m)\n\u001B[0;32m    699\u001B[0m \u001B[39mif\u001B[39;00m is_object_dtype(dtype) \u001B[39mand\u001B[39;00m \u001B[39misinstance\u001B[39m(dtype, ExtensionDtype):\n\u001B[0;32m    700\u001B[0m     \u001B[39m# i.e. PandasDtype(\"O\")\u001B[39;00m\n\u001B[0;32m    702\u001B[0m     result \u001B[39m=\u001B[39m com\u001B[39m.\u001B[39masarray_tuplesafe(data, dtype\u001B[39m=\u001B[39mnp\u001B[39m.\u001B[39mdtype(\u001B[39m\"\u001B[39m\u001B[39mobject\u001B[39m\u001B[39m\"\u001B[39m))\n",
      "\u001B[1;31mValueError\u001B[0m: Data must be 1-dimensional"
     ]
    }
   ],
   "source": [
    "gender_cross = pd.crosstab(index=row_names, columns=[males_df, females_df], \n",
    "                           values=[males_df.values, females_df.values], \n",
    "                           aggfunc=np.sum, rownames=['Treatment'], colnames=['Gender', 'Outcome'])"
   ]
  },
  {
   "cell_type": "code",
   "execution_count": 38,
   "metadata": {},
   "outputs": [
    {
     "data": {
      "text/html": [
       "<div>\n",
       "<style scoped>\n",
       "    .dataframe tbody tr th:only-of-type {\n",
       "        vertical-align: middle;\n",
       "    }\n",
       "\n",
       "    .dataframe tbody tr th {\n",
       "        vertical-align: top;\n",
       "    }\n",
       "\n",
       "    .dataframe thead th {\n",
       "        text-align: right;\n",
       "    }\n",
       "</style>\n",
       "<table border=\"1\" class=\"dataframe\">\n",
       "  <thead>\n",
       "    <tr style=\"text-align: right;\">\n",
       "      <th>col_0</th>\n",
       "      <th>females</th>\n",
       "      <th>males</th>\n",
       "    </tr>\n",
       "    <tr>\n",
       "      <th>row_0</th>\n",
       "      <th></th>\n",
       "      <th></th>\n",
       "    </tr>\n",
       "  </thead>\n",
       "  <tbody>\n",
       "    <tr>\n",
       "      <th>not_treated</th>\n",
       "      <td>[30, 40, 90, 50]</td>\n",
       "      <td>NaN</td>\n",
       "    </tr>\n",
       "    <tr>\n",
       "      <th>treated</th>\n",
       "      <td>NaN</td>\n",
       "      <td>[50, 60, 60, 30]</td>\n",
       "    </tr>\n",
       "  </tbody>\n",
       "</table>\n",
       "</div>"
      ],
      "text/plain": [
       "col_0                 females             males\n",
       "row_0                                          \n",
       "not_treated  [30, 40, 90, 50]               NaN\n",
       "treated                   NaN  [50, 60, 60, 30]"
      ]
     },
     "execution_count": 38,
     "metadata": {},
     "output_type": "execute_result"
    }
   ],
   "source": [
    "gender_cross"
   ]
  },
  {
   "cell_type": "code",
   "execution_count": 36,
   "metadata": {},
   "outputs": [
    {
     "data": {
      "text/html": [
       "<div>\n",
       "<style scoped>\n",
       "    .dataframe tbody tr th:only-of-type {\n",
       "        vertical-align: middle;\n",
       "    }\n",
       "\n",
       "    .dataframe tbody tr th {\n",
       "        vertical-align: top;\n",
       "    }\n",
       "\n",
       "    .dataframe thead th {\n",
       "        text-align: right;\n",
       "    }\n",
       "</style>\n",
       "<table border=\"1\" class=\"dataframe\">\n",
       "  <thead>\n",
       "    <tr style=\"text-align: right;\">\n",
       "      <th>col_0</th>\n",
       "      <th>died</th>\n",
       "      <th>survived</th>\n",
       "    </tr>\n",
       "    <tr>\n",
       "      <th>row_0</th>\n",
       "      <th></th>\n",
       "      <th></th>\n",
       "    </tr>\n",
       "  </thead>\n",
       "  <tbody>\n",
       "    <tr>\n",
       "      <th>not_treated</th>\n",
       "      <td>1.0</td>\n",
       "      <td>0.0</td>\n",
       "    </tr>\n",
       "    <tr>\n",
       "      <th>treated</th>\n",
       "      <td>0.0</td>\n",
       "      <td>1.0</td>\n",
       "    </tr>\n",
       "    <tr>\n",
       "      <th>Total</th>\n",
       "      <td>0.5</td>\n",
       "      <td>0.5</td>\n",
       "    </tr>\n",
       "  </tbody>\n",
       "</table>\n",
       "</div>"
      ],
      "text/plain": [
       "col_0        died  survived\n",
       "row_0                      \n",
       "not_treated   1.0       0.0\n",
       "treated       0.0       1.0\n",
       "Total         0.5       0.5"
      ]
     },
     "execution_count": 36,
     "metadata": {},
     "output_type": "execute_result"
    }
   ],
   "source": [
    "df"
   ]
  }
 ],
 "metadata": {
  "kernelspec": {
   "display_name": "stats",
   "language": "python",
   "name": "python3"
  },
  "language_info": {
   "codemirror_mode": {
    "name": "ipython",
    "version": 3
   },
   "file_extension": ".py",
   "mimetype": "text/x-python",
   "name": "python",
   "nbconvert_exporter": "python",
   "pygments_lexer": "ipython3",
   "version": "3.10.9"
  },
  "vscode": {
   "interpreter": {
    "hash": "2a307e26ed5a7e69b1cc176ee917254c7c06fb2a4e53b866705a39e1784089e0"
   }
  }
 },
 "nbformat": 4,
 "nbformat_minor": 0
}
