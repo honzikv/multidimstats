{
 "cells": [
  {
   "attachments": {},
   "cell_type": "markdown",
   "metadata": {},
   "source": [
    "# Contingency tables"
   ]
  },
  {
   "cell_type": "code",
   "execution_count": 1,
   "metadata": {
    "collapsed": true
   },
   "outputs": [],
   "source": [
    "import pandas as pd\n",
    "import numpy as np"
   ]
  },
  {
   "cell_type": "code",
   "execution_count": 15,
   "metadata": {},
   "outputs": [],
   "source": [
    "col_names = ['survived', 'died']\n",
    "row_names = ['treated', 'not_treated']\n",
    "\n",
    "# Create a contingency table for males\n",
    "males_df = pd.DataFrame([[50, 60], [30, 40]], columns=col_names, index=row_names)\n",
    "females_df = pd.DataFrame([[60, 30], [90, 50]], columns=col_names, index=row_names)"
   ]
  },
  {
   "cell_type": "code",
   "execution_count": 16,
   "metadata": {},
   "outputs": [
    {
     "data": {
      "text/html": [
       "<div>\n",
       "<style scoped>\n",
       "    .dataframe tbody tr th:only-of-type {\n",
       "        vertical-align: middle;\n",
       "    }\n",
       "\n",
       "    .dataframe tbody tr th {\n",
       "        vertical-align: top;\n",
       "    }\n",
       "\n",
       "    .dataframe thead th {\n",
       "        text-align: right;\n",
       "    }\n",
       "</style>\n",
       "<table border=\"1\" class=\"dataframe\">\n",
       "  <thead>\n",
       "    <tr style=\"text-align: right;\">\n",
       "      <th></th>\n",
       "      <th>survived</th>\n",
       "      <th>died</th>\n",
       "    </tr>\n",
       "  </thead>\n",
       "  <tbody>\n",
       "    <tr>\n",
       "      <th>treated</th>\n",
       "      <td>50</td>\n",
       "      <td>60</td>\n",
       "    </tr>\n",
       "    <tr>\n",
       "      <th>not_treated</th>\n",
       "      <td>30</td>\n",
       "      <td>40</td>\n",
       "    </tr>\n",
       "  </tbody>\n",
       "</table>\n",
       "</div>"
      ],
      "text/plain": [
       "             survived  died\n",
       "treated            50    60\n",
       "not_treated        30    40"
      ]
     },
     "execution_count": 16,
     "metadata": {},
     "output_type": "execute_result"
    }
   ],
   "source": [
    "males_df"
   ]
  },
  {
   "cell_type": "code",
   "execution_count": 17,
   "metadata": {},
   "outputs": [
    {
     "data": {
      "text/html": [
       "<div>\n",
       "<style scoped>\n",
       "    .dataframe tbody tr th:only-of-type {\n",
       "        vertical-align: middle;\n",
       "    }\n",
       "\n",
       "    .dataframe tbody tr th {\n",
       "        vertical-align: top;\n",
       "    }\n",
       "\n",
       "    .dataframe thead th {\n",
       "        text-align: right;\n",
       "    }\n",
       "</style>\n",
       "<table border=\"1\" class=\"dataframe\">\n",
       "  <thead>\n",
       "    <tr style=\"text-align: right;\">\n",
       "      <th></th>\n",
       "      <th>survived</th>\n",
       "      <th>died</th>\n",
       "    </tr>\n",
       "  </thead>\n",
       "  <tbody>\n",
       "    <tr>\n",
       "      <th>treated</th>\n",
       "      <td>60</td>\n",
       "      <td>30</td>\n",
       "    </tr>\n",
       "    <tr>\n",
       "      <th>not_treated</th>\n",
       "      <td>90</td>\n",
       "      <td>50</td>\n",
       "    </tr>\n",
       "  </tbody>\n",
       "</table>\n",
       "</div>"
      ],
      "text/plain": [
       "             survived  died\n",
       "treated            60    30\n",
       "not_treated        90    50"
      ]
     },
     "execution_count": 17,
     "metadata": {},
     "output_type": "execute_result"
    }
   ],
   "source": [
    "females_df"
   ]
  },
  {
   "attachments": {},
   "cell_type": "markdown",
   "metadata": {},
   "source": [
    "## Perform Chi-Square test of independence\n",
    "\n",
    "Determine whether treatment and outcome (i.e. survived or died) are independent.\n",
    "\n",
    "H0: treatment and outcome are independent\n",
    "H1: treatment and outcome are dependent\n",
    "\n",
    "If the p-value is less than 0.05, we reject the null hypothesis and conclude that treatment and outcome are dependent.\n",
    "\n"
   ]
  },
  {
   "cell_type": "code",
   "execution_count": 20,
   "metadata": {},
   "outputs": [],
   "source": [
    "import scipy.stats as stats\n",
    "\n",
    "males_chi_square_result = stats.chi2_contingency(males_df)\n",
    "females_chi_square_result = stats.chi2_contingency(females_df)\n"
   ]
  },
  {
   "cell_type": "code",
   "execution_count": 21,
   "metadata": {},
   "outputs": [
    {
     "name": "stdout",
     "output_type": "stream",
     "text": [
      "------------------------\n",
      "Chi-square value:  0.03535714285714309\n",
      "p-value:  0.8508492527705047  (not statistically significant)\n",
      "Fail to reject the null hypothesis\n",
      "Degree of freedom:  1\n",
      "Expected frequencies:  [[48.88888889 61.11111111]\n",
      " [31.11111111 38.88888889]]\n",
      "------------------------\n",
      "\n",
      "------------------------\n",
      "Chi-square value:  0.0520618386243384\n",
      "p-value:  0.8195135892996177  (not statistically significant)\n",
      "Fail to reject the null hypothesis\n",
      "Degree of freedom:  1\n",
      "Expected frequencies:  [[58.69565217 31.30434783]\n",
      " [91.30434783 48.69565217]]\n",
      "------------------------\n"
     ]
    }
   ],
   "source": [
    "# Print the results\n",
    "\n",
    "def print_stats(chi_square_result):\n",
    "    print('------------------------')\n",
    "    print('Chi-square value: ', chi_square_result[0])\n",
    "    p_value = chi_square_result[1]\n",
    "    if p_value < 0.05:\n",
    "        print('p-value: ', chi_square_result[1], ' (statistically significant)')\n",
    "        print('Reject the null hypothesis')\n",
    "    else:\n",
    "        print('p-value: ', chi_square_result[1], ' (not statistically significant)')\n",
    "        print('Fail to reject the null hypothesis')\n",
    "    \n",
    "    print('Degree of freedom: ', chi_square_result[2])\n",
    "    print('Expected frequencies: ', chi_square_result[3])\n",
    "    print('------------------------')\n",
    "    \n",
    "print_stats(males_chi_square_result)\n",
    "print('')\n",
    "print_stats(females_chi_square_result)"
   ]
  },
  {
   "attachments": {},
   "cell_type": "markdown",
   "metadata": {},
   "source": [
    "## Join the contingency table for male and female"
   ]
  },
  {
   "cell_type": "code",
   "execution_count": 22,
   "metadata": {},
   "outputs": [
    {
     "data": {
      "text/html": [
       "<div>\n",
       "<style scoped>\n",
       "    .dataframe tbody tr th:only-of-type {\n",
       "        vertical-align: middle;\n",
       "    }\n",
       "\n",
       "    .dataframe tbody tr th {\n",
       "        vertical-align: top;\n",
       "    }\n",
       "\n",
       "    .dataframe thead th {\n",
       "        text-align: right;\n",
       "    }\n",
       "</style>\n",
       "<table border=\"1\" class=\"dataframe\">\n",
       "  <thead>\n",
       "    <tr style=\"text-align: right;\">\n",
       "      <th></th>\n",
       "      <th>survived</th>\n",
       "      <th>died</th>\n",
       "    </tr>\n",
       "  </thead>\n",
       "  <tbody>\n",
       "    <tr>\n",
       "      <th>treated</th>\n",
       "      <td>110</td>\n",
       "      <td>90</td>\n",
       "    </tr>\n",
       "    <tr>\n",
       "      <th>not_treated</th>\n",
       "      <td>120</td>\n",
       "      <td>90</td>\n",
       "    </tr>\n",
       "  </tbody>\n",
       "</table>\n",
       "</div>"
      ],
      "text/plain": [
       "             survived  died\n",
       "treated           110    90\n",
       "not_treated       120    90"
      ]
     },
     "execution_count": 22,
     "metadata": {},
     "output_type": "execute_result"
    }
   ],
   "source": [
    "# Add the male and female contingency tables together\n",
    "# I.e. ignore the gender column\n",
    "df = males_df.add(females_df)\n",
    "\n",
    "df"
   ]
  },
  {
   "cell_type": "code",
   "execution_count": 23,
   "metadata": {},
   "outputs": [
    {
     "name": "stdout",
     "output_type": "stream",
     "text": [
      "------------------------\n",
      "Chi-square value:  0.11389478375891327\n",
      "p-value:  0.7357528158315947  (not statistically significant)\n",
      "Fail to reject the null hypothesis\n",
      "Degree of freedom:  1\n",
      "Expected frequencies:  [[112.19512195  87.80487805]\n",
      " [117.80487805  92.19512195]]\n",
      "------------------------\n"
     ]
    }
   ],
   "source": [
    "print_stats(stats.chi2_contingency(df))"
   ]
  }
 ],
 "metadata": {
  "kernelspec": {
   "display_name": "stats",
   "language": "python",
   "name": "python3"
  },
  "language_info": {
   "codemirror_mode": {
    "name": "ipython",
    "version": 3
   },
   "file_extension": ".py",
   "mimetype": "text/x-python",
   "name": "python",
   "nbconvert_exporter": "python",
   "pygments_lexer": "ipython3",
   "version": "3.10.9"
  },
  "vscode": {
   "interpreter": {
    "hash": "2a307e26ed5a7e69b1cc176ee917254c7c06fb2a4e53b866705a39e1784089e0"
   }
  }
 },
 "nbformat": 4,
 "nbformat_minor": 0
}
