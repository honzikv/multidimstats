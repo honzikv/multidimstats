{
 "cells": [
  {
   "cell_type": "code",
   "execution_count": 1,
   "metadata": {},
   "outputs": [],
   "source": [
    "import numpy as np\n",
    "import pandas as pd"
   ]
  },
  {
   "cell_type": "code",
   "execution_count": 5,
   "metadata": {},
   "outputs": [
    {
     "data": {
      "text/html": [
       "<div>\n",
       "<style scoped>\n",
       "    .dataframe tbody tr th:only-of-type {\n",
       "        vertical-align: middle;\n",
       "    }\n",
       "\n",
       "    .dataframe tbody tr th {\n",
       "        vertical-align: top;\n",
       "    }\n",
       "\n",
       "    .dataframe thead th {\n",
       "        text-align: right;\n",
       "    }\n",
       "</style>\n",
       "<table border=\"1\" class=\"dataframe\">\n",
       "  <thead>\n",
       "    <tr style=\"text-align: right;\">\n",
       "      <th></th>\n",
       "      <th>label</th>\n",
       "      <th>1</th>\n",
       "      <th>2</th>\n",
       "      <th>3</th>\n",
       "      <th>4</th>\n",
       "      <th>5</th>\n",
       "      <th>6</th>\n",
       "      <th>7</th>\n",
       "      <th>8</th>\n",
       "      <th>9</th>\n",
       "    </tr>\n",
       "  </thead>\n",
       "  <tbody>\n",
       "    <tr>\n",
       "      <th>0</th>\n",
       "      <td>1</td>\n",
       "      <td>524.794072</td>\n",
       "      <td>0.187448</td>\n",
       "      <td>0.032114</td>\n",
       "      <td>228.800228</td>\n",
       "      <td>6843.598481</td>\n",
       "      <td>29.910803</td>\n",
       "      <td>60.204880</td>\n",
       "      <td>220.737212</td>\n",
       "      <td>556.828334</td>\n",
       "    </tr>\n",
       "    <tr>\n",
       "      <th>1</th>\n",
       "      <td>1</td>\n",
       "      <td>330.000000</td>\n",
       "      <td>0.226893</td>\n",
       "      <td>0.265290</td>\n",
       "      <td>121.154201</td>\n",
       "      <td>3163.239472</td>\n",
       "      <td>26.109202</td>\n",
       "      <td>69.717361</td>\n",
       "      <td>99.084964</td>\n",
       "      <td>400.225776</td>\n",
       "    </tr>\n",
       "    <tr>\n",
       "      <th>2</th>\n",
       "      <td>1</td>\n",
       "      <td>551.879287</td>\n",
       "      <td>0.232478</td>\n",
       "      <td>0.063530</td>\n",
       "      <td>264.804935</td>\n",
       "      <td>11888.391830</td>\n",
       "      <td>44.894903</td>\n",
       "      <td>77.793297</td>\n",
       "      <td>253.785300</td>\n",
       "      <td>656.769449</td>\n",
       "    </tr>\n",
       "    <tr>\n",
       "      <th>3</th>\n",
       "      <td>1</td>\n",
       "      <td>380.000000</td>\n",
       "      <td>0.240855</td>\n",
       "      <td>0.286234</td>\n",
       "      <td>137.640111</td>\n",
       "      <td>5402.171180</td>\n",
       "      <td>39.248524</td>\n",
       "      <td>88.758446</td>\n",
       "      <td>105.198568</td>\n",
       "      <td>493.701814</td>\n",
       "    </tr>\n",
       "    <tr>\n",
       "      <th>4</th>\n",
       "      <td>1</td>\n",
       "      <td>362.831266</td>\n",
       "      <td>0.200713</td>\n",
       "      <td>0.244346</td>\n",
       "      <td>124.912559</td>\n",
       "      <td>3290.462446</td>\n",
       "      <td>26.342127</td>\n",
       "      <td>69.389389</td>\n",
       "      <td>103.866552</td>\n",
       "      <td>424.796503</td>\n",
       "    </tr>\n",
       "    <tr>\n",
       "      <th>...</th>\n",
       "      <td>...</td>\n",
       "      <td>...</td>\n",
       "      <td>...</td>\n",
       "      <td>...</td>\n",
       "      <td>...</td>\n",
       "      <td>...</td>\n",
       "      <td>...</td>\n",
       "      <td>...</td>\n",
       "      <td>...</td>\n",
       "      <td>...</td>\n",
       "    </tr>\n",
       "    <tr>\n",
       "      <th>101</th>\n",
       "      <td>6</td>\n",
       "      <td>2000.000000</td>\n",
       "      <td>0.106989</td>\n",
       "      <td>0.105418</td>\n",
       "      <td>520.222649</td>\n",
       "      <td>40087.920980</td>\n",
       "      <td>77.059161</td>\n",
       "      <td>204.090347</td>\n",
       "      <td>478.517223</td>\n",
       "      <td>2088.648870</td>\n",
       "    </tr>\n",
       "    <tr>\n",
       "      <th>102</th>\n",
       "      <td>6</td>\n",
       "      <td>2600.000000</td>\n",
       "      <td>0.200538</td>\n",
       "      <td>0.208043</td>\n",
       "      <td>1063.441427</td>\n",
       "      <td>174480.476200</td>\n",
       "      <td>164.071543</td>\n",
       "      <td>418.687286</td>\n",
       "      <td>977.552367</td>\n",
       "      <td>2664.583623</td>\n",
       "    </tr>\n",
       "    <tr>\n",
       "      <th>103</th>\n",
       "      <td>6</td>\n",
       "      <td>1600.000000</td>\n",
       "      <td>0.071908</td>\n",
       "      <td>-0.066323</td>\n",
       "      <td>436.943603</td>\n",
       "      <td>12655.342130</td>\n",
       "      <td>28.963331</td>\n",
       "      <td>103.732704</td>\n",
       "      <td>432.129749</td>\n",
       "      <td>1475.371534</td>\n",
       "    </tr>\n",
       "    <tr>\n",
       "      <th>104</th>\n",
       "      <td>6</td>\n",
       "      <td>2300.000000</td>\n",
       "      <td>0.045029</td>\n",
       "      <td>0.136834</td>\n",
       "      <td>185.446044</td>\n",
       "      <td>5086.292497</td>\n",
       "      <td>27.427344</td>\n",
       "      <td>178.691742</td>\n",
       "      <td>49.593290</td>\n",
       "      <td>2480.592151</td>\n",
       "    </tr>\n",
       "    <tr>\n",
       "      <th>105</th>\n",
       "      <td>6</td>\n",
       "      <td>2600.000000</td>\n",
       "      <td>0.069988</td>\n",
       "      <td>0.048869</td>\n",
       "      <td>745.474369</td>\n",
       "      <td>39845.773700</td>\n",
       "      <td>53.450226</td>\n",
       "      <td>154.122604</td>\n",
       "      <td>729.368395</td>\n",
       "      <td>2545.419744</td>\n",
       "    </tr>\n",
       "  </tbody>\n",
       "</table>\n",
       "<p>106 rows × 10 columns</p>\n",
       "</div>"
      ],
      "text/plain": [
       "     label            1         2         3            4              5  \\\n",
       "0        1   524.794072  0.187448  0.032114   228.800228    6843.598481   \n",
       "1        1   330.000000  0.226893  0.265290   121.154201    3163.239472   \n",
       "2        1   551.879287  0.232478  0.063530   264.804935   11888.391830   \n",
       "3        1   380.000000  0.240855  0.286234   137.640111    5402.171180   \n",
       "4        1   362.831266  0.200713  0.244346   124.912559    3290.462446   \n",
       "..     ...          ...       ...       ...          ...            ...   \n",
       "101      6  2000.000000  0.106989  0.105418   520.222649   40087.920980   \n",
       "102      6  2600.000000  0.200538  0.208043  1063.441427  174480.476200   \n",
       "103      6  1600.000000  0.071908 -0.066323   436.943603   12655.342130   \n",
       "104      6  2300.000000  0.045029  0.136834   185.446044    5086.292497   \n",
       "105      6  2600.000000  0.069988  0.048869   745.474369   39845.773700   \n",
       "\n",
       "              6           7           8            9  \n",
       "0     29.910803   60.204880  220.737212   556.828334  \n",
       "1     26.109202   69.717361   99.084964   400.225776  \n",
       "2     44.894903   77.793297  253.785300   656.769449  \n",
       "3     39.248524   88.758446  105.198568   493.701814  \n",
       "4     26.342127   69.389389  103.866552   424.796503  \n",
       "..          ...         ...         ...          ...  \n",
       "101   77.059161  204.090347  478.517223  2088.648870  \n",
       "102  164.071543  418.687286  977.552367  2664.583623  \n",
       "103   28.963331  103.732704  432.129749  1475.371534  \n",
       "104   27.427344  178.691742   49.593290  2480.592151  \n",
       "105   53.450226  154.122604  729.368395  2545.419744  \n",
       "\n",
       "[106 rows x 10 columns]"
      ]
     },
     "execution_count": 5,
     "metadata": {},
     "output_type": "execute_result"
    }
   ],
   "source": [
    "df = pd.read_csv('data.tsv', sep='\\t', header=None)\n",
    "\n",
    "# Rename 0th column to 'label'\n",
    "df.rename(columns={0: 'label'}, inplace=True)\n",
    "\n",
    "df"
   ]
  },
  {
   "attachments": {},
   "cell_type": "markdown",
   "metadata": {},
   "source": [
    "## Reduce dimensionality using PCA"
   ]
  },
  {
   "cell_type": "code",
   "execution_count": 21,
   "metadata": {},
   "outputs": [],
   "source": [
    "# Scale and train test split\n",
    "\n",
    "from sklearn.model_selection import train_test_split\n",
    "\n",
    "train_split = 0.8\n",
    "x_train, x_test, y_train, y_test = train_test_split(df.drop('label', axis=1), df['label'], train_size=train_split, random_state=42)\n",
    "x_train.reset_index(drop=True, inplace=True)\n",
    "x_test.reset_index(drop=True, inplace=True)\n"
   ]
  },
  {
   "cell_type": "code",
   "execution_count": 22,
   "metadata": {},
   "outputs": [
    {
     "data": {
      "text/html": [
       "<div>\n",
       "<style scoped>\n",
       "    .dataframe tbody tr th:only-of-type {\n",
       "        vertical-align: middle;\n",
       "    }\n",
       "\n",
       "    .dataframe tbody tr th {\n",
       "        vertical-align: top;\n",
       "    }\n",
       "\n",
       "    .dataframe thead th {\n",
       "        text-align: right;\n",
       "    }\n",
       "</style>\n",
       "<table border=\"1\" class=\"dataframe\">\n",
       "  <thead>\n",
       "    <tr style=\"text-align: right;\">\n",
       "      <th></th>\n",
       "      <th>1</th>\n",
       "      <th>2</th>\n",
       "      <th>3</th>\n",
       "      <th>4</th>\n",
       "      <th>5</th>\n",
       "      <th>6</th>\n",
       "      <th>7</th>\n",
       "      <th>8</th>\n",
       "      <th>9</th>\n",
       "    </tr>\n",
       "  </thead>\n",
       "  <tbody>\n",
       "    <tr>\n",
       "      <th>0</th>\n",
       "      <td>178.000000</td>\n",
       "      <td>0.149575</td>\n",
       "      <td>0.099135</td>\n",
       "      <td>40.290621</td>\n",
       "      <td>474.404699</td>\n",
       "      <td>11.774569</td>\n",
       "      <td>25.920828</td>\n",
       "      <td>30.845499</td>\n",
       "      <td>209.180738</td>\n",
       "    </tr>\n",
       "    <tr>\n",
       "      <th>1</th>\n",
       "      <td>259.885145</td>\n",
       "      <td>0.070686</td>\n",
       "      <td>0.006981</td>\n",
       "      <td>58.243807</td>\n",
       "      <td>465.087265</td>\n",
       "      <td>7.985180</td>\n",
       "      <td>17.506838</td>\n",
       "      <td>56.340241</td>\n",
       "      <td>267.517446</td>\n",
       "    </tr>\n",
       "    <tr>\n",
       "      <th>2</th>\n",
       "      <td>196.856714</td>\n",
       "      <td>0.020071</td>\n",
       "      <td>0.090757</td>\n",
       "      <td>28.593126</td>\n",
       "      <td>82.058889</td>\n",
       "      <td>2.869882</td>\n",
       "      <td>7.968783</td>\n",
       "      <td>27.661516</td>\n",
       "      <td>200.749336</td>\n",
       "    </tr>\n",
       "    <tr>\n",
       "      <th>3</th>\n",
       "      <td>341.620013</td>\n",
       "      <td>0.091979</td>\n",
       "      <td>0.074002</td>\n",
       "      <td>85.043029</td>\n",
       "      <td>1370.838068</td>\n",
       "      <td>16.119347</td>\n",
       "      <td>29.028969</td>\n",
       "      <td>79.935197</td>\n",
       "      <td>385.133460</td>\n",
       "    </tr>\n",
       "    <tr>\n",
       "      <th>4</th>\n",
       "      <td>121.000000</td>\n",
       "      <td>0.174184</td>\n",
       "      <td>0.090757</td>\n",
       "      <td>24.437180</td>\n",
       "      <td>144.466513</td>\n",
       "      <td>5.911750</td>\n",
       "      <td>22.021080</td>\n",
       "      <td>10.594708</td>\n",
       "      <td>141.766185</td>\n",
       "    </tr>\n",
       "    <tr>\n",
       "      <th>...</th>\n",
       "      <td>...</td>\n",
       "      <td>...</td>\n",
       "      <td>...</td>\n",
       "      <td>...</td>\n",
       "      <td>...</td>\n",
       "      <td>...</td>\n",
       "      <td>...</td>\n",
       "      <td>...</td>\n",
       "      <td>...</td>\n",
       "    </tr>\n",
       "    <tr>\n",
       "      <th>79</th>\n",
       "      <td>1385.664721</td>\n",
       "      <td>0.092328</td>\n",
       "      <td>0.089361</td>\n",
       "      <td>202.480044</td>\n",
       "      <td>8785.028733</td>\n",
       "      <td>43.387134</td>\n",
       "      <td>143.092194</td>\n",
       "      <td>143.257780</td>\n",
       "      <td>1524.609204</td>\n",
       "    </tr>\n",
       "    <tr>\n",
       "      <th>80</th>\n",
       "      <td>485.668806</td>\n",
       "      <td>0.230209</td>\n",
       "      <td>0.134041</td>\n",
       "      <td>253.893699</td>\n",
       "      <td>8135.968359</td>\n",
       "      <td>32.044783</td>\n",
       "      <td>64.855446</td>\n",
       "      <td>245.470531</td>\n",
       "      <td>541.363975</td>\n",
       "    </tr>\n",
       "    <tr>\n",
       "      <th>81</th>\n",
       "      <td>1800.000000</td>\n",
       "      <td>0.091979</td>\n",
       "      <td>0.205251</td>\n",
       "      <td>362.863321</td>\n",
       "      <td>15021.553890</td>\n",
       "      <td>41.397278</td>\n",
       "      <td>217.833969</td>\n",
       "      <td>290.203640</td>\n",
       "      <td>1893.663712</td>\n",
       "    </tr>\n",
       "    <tr>\n",
       "      <th>82</th>\n",
       "      <td>274.993396</td>\n",
       "      <td>0.147131</td>\n",
       "      <td>0.137532</td>\n",
       "      <td>66.457943</td>\n",
       "      <td>1217.415651</td>\n",
       "      <td>18.318588</td>\n",
       "      <td>40.849678</td>\n",
       "      <td>52.421008</td>\n",
       "      <td>327.558639</td>\n",
       "    </tr>\n",
       "    <tr>\n",
       "      <th>83</th>\n",
       "      <td>2600.000000</td>\n",
       "      <td>0.200538</td>\n",
       "      <td>0.208043</td>\n",
       "      <td>1063.441427</td>\n",
       "      <td>174480.476200</td>\n",
       "      <td>164.071543</td>\n",
       "      <td>418.687286</td>\n",
       "      <td>977.552367</td>\n",
       "      <td>2664.583623</td>\n",
       "    </tr>\n",
       "  </tbody>\n",
       "</table>\n",
       "<p>84 rows × 9 columns</p>\n",
       "</div>"
      ],
      "text/plain": [
       "              1         2         3            4              5           6  \\\n",
       "0    178.000000  0.149575  0.099135    40.290621     474.404699   11.774569   \n",
       "1    259.885145  0.070686  0.006981    58.243807     465.087265    7.985180   \n",
       "2    196.856714  0.020071  0.090757    28.593126      82.058889    2.869882   \n",
       "3    341.620013  0.091979  0.074002    85.043029    1370.838068   16.119347   \n",
       "4    121.000000  0.174184  0.090757    24.437180     144.466513    5.911750   \n",
       "..          ...       ...       ...          ...            ...         ...   \n",
       "79  1385.664721  0.092328  0.089361   202.480044    8785.028733   43.387134   \n",
       "80   485.668806  0.230209  0.134041   253.893699    8135.968359   32.044783   \n",
       "81  1800.000000  0.091979  0.205251   362.863321   15021.553890   41.397278   \n",
       "82   274.993396  0.147131  0.137532    66.457943    1217.415651   18.318588   \n",
       "83  2600.000000  0.200538  0.208043  1063.441427  174480.476200  164.071543   \n",
       "\n",
       "             7           8            9  \n",
       "0    25.920828   30.845499   209.180738  \n",
       "1    17.506838   56.340241   267.517446  \n",
       "2     7.968783   27.661516   200.749336  \n",
       "3    29.028969   79.935197   385.133460  \n",
       "4    22.021080   10.594708   141.766185  \n",
       "..         ...         ...          ...  \n",
       "79  143.092194  143.257780  1524.609204  \n",
       "80   64.855446  245.470531   541.363975  \n",
       "81  217.833969  290.203640  1893.663712  \n",
       "82   40.849678   52.421008   327.558639  \n",
       "83  418.687286  977.552367  2664.583623  \n",
       "\n",
       "[84 rows x 9 columns]"
      ]
     },
     "execution_count": 22,
     "metadata": {},
     "output_type": "execute_result"
    }
   ],
   "source": [
    "x_train"
   ]
  },
  {
   "cell_type": "code",
   "execution_count": 23,
   "metadata": {},
   "outputs": [],
   "source": [
    "# Scale\n",
    "from sklearn.preprocessing import StandardScaler\n",
    "\n",
    "scaler = StandardScaler()\n",
    "x_train = scaler.fit_transform(x_train)\n",
    "x_test = scaler.transform(x_test)\n"
   ]
  },
  {
   "cell_type": "code",
   "execution_count": 29,
   "metadata": {},
   "outputs": [
    {
     "data": {
      "text/plain": [
       "(array([1., 1., 1., 1., 1., 1., 1., 1., 1.]),\n",
       " array([ 1.11022302e-16,  1.63890066e-16,  1.40099572e-16, -1.05735526e-17,\n",
       "        -4.22942105e-17,  9.51619735e-17, -3.17206578e-17, -7.40148683e-17,\n",
       "        -1.16309079e-16]))"
      ]
     },
     "execution_count": 29,
     "metadata": {},
     "output_type": "execute_result"
    }
   ],
   "source": [
    "x_train.var(axis=0), x_train.mean(axis=0)"
   ]
  },
  {
   "cell_type": "code",
   "execution_count": 30,
   "metadata": {},
   "outputs": [],
   "source": [
    "from sklearn.decomposition import PCA\n",
    "\n",
    "pca = PCA(n_components=2)\n",
    "\n",
    "x_train = pca.fit_transform(x_train)  # Fit on training data\n",
    "x_test = pca.transform(x_test)"
   ]
  },
  {
   "cell_type": "code",
   "execution_count": 33,
   "metadata": {},
   "outputs": [
    {
     "data": {
      "text/plain": [
       "0.815713004098801"
      ]
     },
     "execution_count": 33,
     "metadata": {},
     "output_type": "execute_result"
    }
   ],
   "source": [
    "explained_variance = pca.explained_variance_ratio_\n",
    "\n",
    "explained_variance = sum(explained_variance)\n",
    "explained_variance"
   ]
  },
  {
   "attachments": {},
   "cell_type": "markdown",
   "metadata": {},
   "source": [
    "## Visualization\n",
    "\n",
    "visualize the result of PCA"
   ]
  },
  {
   "cell_type": "code",
   "execution_count": 40,
   "metadata": {},
   "outputs": [
    {
     "data": {
      "image/png": "[encoded data removed]",
      "text/plain": [
       "<Figure size 640x480 with 1 Axes>"
      ]
     },
     "metadata": {},
     "output_type": "display_data"
    }
   ],
   "source": [
    "import seaborn as sns\n",
    "\n",
    "# Plot with classes\n",
    "plot = sns.scatterplot(x=x_train[:, 0], y=x_train[:, 1], hue=y_train, palette='Set1')\n"
   ]
  },
  {
   "cell_type": "code",
   "execution_count": 47,
   "metadata": {},
   "outputs": [
    {
     "name": "stderr",
     "output_type": "stream",
     "text": [
      "c:\\Users\\itznu\\anaconda3\\envs\\stats\\lib\\site-packages\\sklearn\\cluster\\_kmeans.py:870: FutureWarning: The default value of `n_init` will change from 10 to 'auto' in 1.4. Set the value of `n_init` explicitly to suppress the warning\n",
      "  warnings.warn(\n"
     ]
    },
    {
     "data": {
      "text/html": [
       "<style>#sk-container-id-4 {color: black;background-color: white;}#sk-container-id-4 pre{padding: 0;}#sk-container-id-4 div.sk-toggleable {background-color: white;}#sk-container-id-4 label.sk-toggleable__label {cursor: pointer;display: block;width: 100%;margin-bottom: 0;padding: 0.3em;box-sizing: border-box;text-align: center;}#sk-container-id-4 label.sk-toggleable__label-arrow:before {content: \"▸\";float: left;margin-right: 0.25em;color: #696969;}#sk-container-id-4 label.sk-toggleable__label-arrow:hover:before {color: black;}#sk-container-id-4 div.sk-estimator:hover label.sk-toggleable__label-arrow:before {color: black;}#sk-container-id-4 div.sk-toggleable__content {max-height: 0;max-width: 0;overflow: hidden;text-align: left;background-color: #f0f8ff;}#sk-container-id-4 div.sk-toggleable__content pre {margin: 0.2em;color: black;border-radius: 0.25em;background-color: #f0f8ff;}#sk-container-id-4 input.sk-toggleable__control:checked~div.sk-toggleable__content {max-height: 200px;max-width: 100%;overflow: auto;}#sk-container-id-4 input.sk-toggleable__control:checked~label.sk-toggleable__label-arrow:before {content: \"▾\";}#sk-container-id-4 div.sk-estimator input.sk-toggleable__control:checked~label.sk-toggleable__label {background-color: #d4ebff;}#sk-container-id-4 div.sk-label input.sk-toggleable__control:checked~label.sk-toggleable__label {background-color: #d4ebff;}#sk-container-id-4 input.sk-hidden--visually {border: 0;clip: rect(1px 1px 1px 1px);clip: rect(1px, 1px, 1px, 1px);height: 1px;margin: -1px;overflow: hidden;padding: 0;position: absolute;width: 1px;}#sk-container-id-4 div.sk-estimator {font-family: monospace;background-color: #f0f8ff;border: 1px dotted black;border-radius: 0.25em;box-sizing: border-box;margin-bottom: 0.5em;}#sk-container-id-4 div.sk-estimator:hover {background-color: #d4ebff;}#sk-container-id-4 div.sk-parallel-item::after {content: \"\";width: 100%;border-bottom: 1px solid gray;flex-grow: 1;}#sk-container-id-4 div.sk-label:hover label.sk-toggleable__label {background-color: #d4ebff;}#sk-container-id-4 div.sk-serial::before {content: \"\";position: absolute;border-left: 1px solid gray;box-sizing: border-box;top: 0;bottom: 0;left: 50%;z-index: 0;}#sk-container-id-4 div.sk-serial {display: flex;flex-direction: column;align-items: center;background-color: white;padding-right: 0.2em;padding-left: 0.2em;position: relative;}#sk-container-id-4 div.sk-item {position: relative;z-index: 1;}#sk-container-id-4 div.sk-parallel {display: flex;align-items: stretch;justify-content: center;background-color: white;position: relative;}#sk-container-id-4 div.sk-item::before, #sk-container-id-4 div.sk-parallel-item::before {content: \"\";position: absolute;border-left: 1px solid gray;box-sizing: border-box;top: 0;bottom: 0;left: 50%;z-index: -1;}#sk-container-id-4 div.sk-parallel-item {display: flex;flex-direction: column;z-index: 1;position: relative;background-color: white;}#sk-container-id-4 div.sk-parallel-item:first-child::after {align-self: flex-end;width: 50%;}#sk-container-id-4 div.sk-parallel-item:last-child::after {align-self: flex-start;width: 50%;}#sk-container-id-4 div.sk-parallel-item:only-child::after {width: 0;}#sk-container-id-4 div.sk-dashed-wrapped {border: 1px dashed gray;margin: 0 0.4em 0.5em 0.4em;box-sizing: border-box;padding-bottom: 0.4em;background-color: white;}#sk-container-id-4 div.sk-label label {font-family: monospace;font-weight: bold;display: inline-block;line-height: 1.2em;}#sk-container-id-4 div.sk-label-container {text-align: center;}#sk-container-id-4 div.sk-container {/* jupyter's `normalize.less` sets `[hidden] { display: none; }` but bootstrap.min.css set `[hidden] { display: none !important; }` so we also need the `!important` here to be able to override the default hidden behavior on the sphinx rendered scikit-learn.org. See: https://github.com/scikit-learn/scikit-learn/issues/21755 */display: inline-block !important;position: relative;}#sk-container-id-4 div.sk-text-repr-fallback {display: none;}</style><div id=\"sk-container-id-4\" class=\"sk-top-container\"><div class=\"sk-text-repr-fallback\"><pre>KMeans(n_clusters=6)</pre><b>In a Jupyter environment, please rerun this cell to show the HTML representation or trust the notebook. <br />On GitHub, the HTML representation is unable to render, please try loading this page with nbviewer.org.</b></div><div class=\"sk-container\" hidden><div class=\"sk-item\"><div class=\"sk-estimator sk-toggleable\"><input class=\"sk-toggleable__control sk-hidden--visually\" id=\"sk-estimator-id-4\" type=\"checkbox\" checked><label for=\"sk-estimator-id-4\" class=\"sk-toggleable__label sk-toggleable__label-arrow\">KMeans</label><div class=\"sk-toggleable__content\"><pre>KMeans(n_clusters=6)</pre></div></div></div></div></div>"
      ],
      "text/plain": [
       "KMeans(n_clusters=6)"
      ]
     },
     "execution_count": 47,
     "metadata": {},
     "output_type": "execute_result"
    }
   ],
   "source": [
    "from sklearn.cluster import KMeans\n",
    "\n",
    "# We will not use classes and instead try to cluster the data and see if we can get the same results\n",
    "\n",
    "n_clusters = df['label'].nunique()\n",
    "\n",
    "# Use K-Means clustering\n",
    "kmeans = KMeans(n_clusters=n_clusters)\n",
    "kmeans.fit(x_train)\n"
   ]
  },
  {
   "cell_type": "code",
   "execution_count": 48,
   "metadata": {},
   "outputs": [
    {
     "data": {
      "image/png": "[encoded data removed]",
      "text/plain": [
       "<Figure size 640x480 with 1 Axes>"
      ]
     },
     "metadata": {},
     "output_type": "display_data"
    }
   ],
   "source": [
    "# Plot with clusters\n",
    "\n",
    "plot = sns.scatterplot(x=x_train[:, 0], y=x_train[:, 1], hue=kmeans.labels_, palette='Set1')"
   ]
  },
  {
   "attachments": {},
   "cell_type": "markdown",
   "metadata": {},
   "source": [
    "# Perform linear and quadratic discriminant analysis"
   ]
  },
  {
   "cell_type": "code",
   "execution_count": 51,
   "metadata": {},
   "outputs": [
    {
     "ename": "ValueError",
     "evalue": "n_components cannot be larger than min(n_features, n_classes - 1).",
     "output_type": "error",
     "traceback": [
      "\u001B[1;31m---------------------------------------------------------------------------\u001B[0m",
      "\u001B[1;31mValueError\u001B[0m                                Traceback (most recent call last)",
      "Cell \u001B[1;32mIn[51], line 5\u001B[0m\n\u001B[0;32m      2\u001B[0m \u001B[39mfrom\u001B[39;00m \u001B[39msklearn\u001B[39;00m\u001B[39m.\u001B[39;00m\u001B[39mdiscriminant_analysis\u001B[39;00m \u001B[39mimport\u001B[39;00m QuadraticDiscriminantAnalysis\n\u001B[0;32m      4\u001B[0m lda_model \u001B[39m=\u001B[39m LinearDiscriminantAnalysis(n_components\u001B[39m=\u001B[39mn_clusters)\n\u001B[1;32m----> 5\u001B[0m lda_model\u001B[39m.\u001B[39;49mfit(x_train, y_train)\n\u001B[0;32m      7\u001B[0m qda_model \u001B[39m=\u001B[39m QuadraticDiscriminantAnalysis(n_components\u001B[39m=\u001B[39mn_clusters)\n\u001B[0;32m      8\u001B[0m qda_model\u001B[39m.\u001B[39mfit(x_train, y_train)\n",
      "File \u001B[1;32mc:\\Users\\itznu\\anaconda3\\envs\\stats\\lib\\site-packages\\sklearn\\discriminant_analysis.py:608\u001B[0m, in \u001B[0;36mLinearDiscriminantAnalysis.fit\u001B[1;34m(self, X, y)\u001B[0m\n\u001B[0;32m    606\u001B[0m \u001B[39melse\u001B[39;00m:\n\u001B[0;32m    607\u001B[0m     \u001B[39mif\u001B[39;00m \u001B[39mself\u001B[39m\u001B[39m.\u001B[39mn_components \u001B[39m>\u001B[39m max_components:\n\u001B[1;32m--> 608\u001B[0m         \u001B[39mraise\u001B[39;00m \u001B[39mValueError\u001B[39;00m(\n\u001B[0;32m    609\u001B[0m             \u001B[39m\"\u001B[39m\u001B[39mn_components cannot be larger than min(n_features, n_classes - 1).\u001B[39m\u001B[39m\"\u001B[39m\n\u001B[0;32m    610\u001B[0m         )\n\u001B[0;32m    611\u001B[0m     \u001B[39mself\u001B[39m\u001B[39m.\u001B[39m_max_components \u001B[39m=\u001B[39m \u001B[39mself\u001B[39m\u001B[39m.\u001B[39mn_components\n\u001B[0;32m    613\u001B[0m \u001B[39mif\u001B[39;00m \u001B[39mself\u001B[39m\u001B[39m.\u001B[39msolver \u001B[39m==\u001B[39m \u001B[39m\"\u001B[39m\u001B[39msvd\u001B[39m\u001B[39m\"\u001B[39m:\n",
      "\u001B[1;31mValueError\u001B[0m: n_components cannot be larger than min(n_features, n_classes - 1)."
     ]
    }
   ],
   "source": [
    "from sklearn.discriminant_analysis import LinearDiscriminantAnalysis\n",
    "from sklearn.discriminant_analysis import QuadraticDiscriminantAnalysis\n",
    "\n",
    "lda_model = LinearDiscriminantAnalysis(n_components=2)\n",
    "lda_model.fit(x_train, y_train)\n",
    "\n",
    "qda_model = QuadraticDiscriminantAnalysis(n_components=2)\n",
    "qda_model.fit(x_train, y_train)"
   ]
  },
  {
   "cell_type": "code",
   "execution_count": 49,
   "metadata": {},
   "outputs": [
    {
     "ename": "NameError",
     "evalue": "name 'lda_model' is not defined",
     "output_type": "error",
     "traceback": [
      "\u001B[1;31m---------------------------------------------------------------------------\u001B[0m",
      "\u001B[1;31mNameError\u001B[0m                                 Traceback (most recent call last)",
      "Cell \u001B[1;32mIn[49], line 3\u001B[0m\n\u001B[0;32m      1\u001B[0m \u001B[39m# Plot with LDA\u001B[39;00m\n\u001B[1;32m----> 3\u001B[0m plot \u001B[39m=\u001B[39m sns\u001B[39m.\u001B[39mscatterplot(x\u001B[39m=\u001B[39mx_train[:, \u001B[39m0\u001B[39m], y\u001B[39m=\u001B[39mx_train[:, \u001B[39m1\u001B[39m], hue\u001B[39m=\u001B[39mlda_model\u001B[39m.\u001B[39mpredict(x_train), palette\u001B[39m=\u001B[39m\u001B[39m'\u001B[39m\u001B[39mSet1\u001B[39m\u001B[39m'\u001B[39m)\n",
      "\u001B[1;31mNameError\u001B[0m: name 'lda_model' is not defined"
     ]
    }
   ],
   "source": [
    "# Plot with LDA\n",
    "\n",
    "plot = sns.scatterplot(x=x_train[:, 0], y=x_train[:, 1], hue=lda_model.predict(x_train), palette='Set1')"
   ]
  },
  {
   "cell_type": "code",
   "execution_count": null,
   "outputs": [],
   "source": [],
   "metadata": {
    "collapsed": false
   }
  }
 ],
 "metadata": {
  "kernelspec": {
   "display_name": "stats",
   "language": "python",
   "name": "python3"
  },
  "language_info": {
   "codemirror_mode": {
    "name": "ipython",
    "version": 3
   },
   "file_extension": ".py",
   "mimetype": "text/x-python",
   "name": "python",
   "nbconvert_exporter": "python",
   "pygments_lexer": "ipython3",
   "version": "3.10.9"
  },
  "orig_nbformat": 4,
  "vscode": {
   "interpreter": {
    "hash": "2a307e26ed5a7e69b1cc176ee917254c7c06fb2a4e53b866705a39e1784089e0"
   }
  }
 },
 "nbformat": 4,
 "nbformat_minor": 2
}
