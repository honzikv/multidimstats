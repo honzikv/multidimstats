{
 "cells": [
  {
   "cell_type": "code",
   "execution_count": 21,
   "metadata": {
    "collapsed": true
   },
   "outputs": [],
   "source": [
    "import numpy as np\n",
    "from scipy.stats import spearmanr, kendalltau\n",
    "\n",
    "seed = 1337\n",
    "\n",
    "np.random.seed(seed)\n"
   ]
  },
  {
   "cell_type": "code",
   "execution_count": 14,
   "outputs": [
    {
     "name": "stdout",
     "output_type": "stream",
     "text": [
      "[13.10123375  7.93419861 13.90632597 22.96584436 16.05002703 25.91964103\n",
      " 13.09714628 48.80426424 36.64072763  5.76371133 19.31375343 31.42505898\n",
      "  6.25289632 49.17743026 22.16124343 39.4779171  39.70592879 18.06307862\n",
      " 20.80519698 29.21290641 38.00858869  9.39042027 14.40835739 33.51094291\n",
      " 24.98241307  8.92843386 20.65706507  9.95976176 26.58497018 41.61853515\n",
      "  9.26254725 47.86796118 21.27073326 25.20035196 25.52354734  0.78957261\n",
      " 36.58450343 49.66525199  8.14387666  6.33173898 18.74170923 34.66097221\n",
      "  0.14505151 18.46145311  2.93396628 39.46680425 17.48846063 35.12618599\n",
      " 24.56145386 48.64361649]\n",
      "[54.89962775 38.44606522 42.13227495 72.83530152 28.78623385 26.63853388\n",
      " 17.54939964 95.75339427 85.3136976  30.33778783 36.36055201 67.56793987\n",
      "  6.79773444 87.17508914 55.73138274 49.00019339 73.02916142 63.6191987\n",
      " 28.91106827 74.74182222 54.22648387 44.40534127 27.68087431 59.45887543\n",
      " 33.85581231 32.32073247 43.10529101 29.76299255 66.18124187 66.28844739\n",
      " 45.45994215 87.51911282 38.84693825 70.6830282  61.16792235 45.65195416\n",
      " 57.59491988 73.04105696 53.34023663 38.00916928 45.38318241 46.53651046\n",
      " 47.47024745 46.43295929 40.80154272 51.2742647  38.97639715 54.83186599\n",
      " 50.09692366 54.9137663 ]\n"
     ]
    }
   ],
   "source": [
    "X = np.random.rand(50) * 50 # Between 0 - 50\n",
    "Y = np.random.rand(50) * 50 + X  # Y = U(0, 50) + U(0, 50)\n",
    "\n",
    "print(X)\n",
    "print(Y)"
   ],
   "metadata": {
    "collapsed": false
   }
  },
  {
   "cell_type": "markdown",
   "source": [
    "# Correlation testing"
   ],
   "metadata": {
    "collapsed": false
   }
  },
  {
   "cell_type": "code",
   "execution_count": 15,
   "outputs": [
    {
     "data": {
      "text/plain": "0.6812756272828593"
     },
     "execution_count": 15,
     "metadata": {},
     "output_type": "execute_result"
    }
   ],
   "source": [
    "# Default correlation\n",
    "corr_matrix = np.corrcoef(X, Y)\n",
    "corr_matrix[0, 1]"
   ],
   "metadata": {
    "collapsed": false
   }
  },
  {
   "cell_type": "code",
   "execution_count": 20,
   "outputs": [
    {
     "data": {
      "text/plain": "(0.6794237695078031, 'Samples are uncorrelated ppty: 5.800917709720547e-06%')"
     },
     "execution_count": 20,
     "metadata": {},
     "output_type": "execute_result"
    }
   ],
   "source": [
    "# Spearman correlation\n",
    "\n",
    "spearman_coeff, reject_h0 = spearmanr(X, Y)\n",
    "spearman_coeff, f'Samples are uncorrelated ppty: {reject_h0 * 100}%'"
   ],
   "metadata": {
    "collapsed": false
   }
  },
  {
   "cell_type": "code",
   "execution_count": 22,
   "outputs": [
    {
     "data": {
      "text/plain": "(0.4579591836734694, 'Samples are uncorrelated ppty: 0.00026964223424061524%')"
     },
     "execution_count": 22,
     "metadata": {},
     "output_type": "execute_result"
    }
   ],
   "source": [
    "# Kendall's tau\n",
    "\n",
    "kendall_coeff, reject_h0 = kendalltau(X, Y)\n",
    "kendall_coeff, f'Samples are uncorrelated ppty: {reject_h0 * 100}%'"
   ],
   "metadata": {
    "collapsed": false
   }
  }
 ],
 "metadata": {
  "kernelspec": {
   "display_name": "Python 3",
   "language": "python",
   "name": "python3"
  },
  "language_info": {
   "codemirror_mode": {
    "name": "ipython",
    "version": 2
   },
   "file_extension": ".py",
   "mimetype": "text/x-python",
   "name": "python",
   "nbconvert_exporter": "python",
   "pygments_lexer": "ipython2",
   "version": "2.7.6"
  }
 },
 "nbformat": 4,
 "nbformat_minor": 0
}
